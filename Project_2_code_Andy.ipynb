{
 "cells": [
  {
   "cell_type": "markdown",
   "id": "b949efc2-3c55-4d72-ad13-0dcb0c2af8a6",
   "metadata": {},
   "source": [
    "# Project 2 - Predict House Price, by Chenhao Andy Xu"
   ]
  },
  {
   "cell_type": "code",
   "execution_count": 160,
   "id": "c9321a7e-22ff-4aee-875a-4650ac928bd9",
   "metadata": {
    "tags": []
   },
   "outputs": [],
   "source": [
    "import pandas as pd\n",
    "import numpy as np\n",
    "import seaborn as sns\n",
    "import matplotlib.pyplot as plt\n",
    "\n",
    "from sklearn.model_selection import train_test_split, cross_val_score\n",
    "from sklearn.impute import SimpleImputer\n",
    "from sklearn.preprocessing import OneHotEncoder\n",
    "from sklearn.compose import make_column_transformer\n",
    "from sklearn.preprocessing import PolynomialFeatures, StandardScaler\n",
    "from sklearn.linear_model import LinearRegression, Ridge, Lasso, RidgeCV, LassoCV\n",
    "from sklearn import metrics"
   ]
  },
  {
   "cell_type": "markdown",
   "id": "3059361f-0d2b-4769-a5ca-7ed40062ab0e",
   "metadata": {},
   "source": [
    "## 1. Load and Check the Data"
   ]
  },
  {
   "cell_type": "code",
   "execution_count": 161,
   "id": "c2494065-7077-4484-80d5-9c53ba18c8d0",
   "metadata": {
    "tags": []
   },
   "outputs": [],
   "source": [
    "train = pd.read_csv('./datasets/train.csv', keep_default_na = False, na_values = '')\n",
    "test = pd.read_csv('./datasets/test.csv', keep_default_na = False, na_values = '')"
   ]
  },
  {
   "cell_type": "code",
   "execution_count": 162,
   "id": "c6c5d1be-4e3a-42d9-8033-4ad13f193905",
   "metadata": {},
   "outputs": [
    {
     "data": {
      "text/plain": [
       "((2051, 81), (878, 80))"
      ]
     },
     "execution_count": 162,
     "metadata": {},
     "output_type": "execute_result"
    }
   ],
   "source": [
    "train.shape, test.shape"
   ]
  },
  {
   "cell_type": "code",
   "execution_count": 163,
   "id": "152535b7-3a18-4dc1-a1a5-4be7b18f6404",
   "metadata": {},
   "outputs": [
    {
     "data": {
      "text/plain": [
       "{'SalePrice'}"
      ]
     },
     "execution_count": 163,
     "metadata": {},
     "output_type": "execute_result"
    }
   ],
   "source": [
    "# Retrieve the column which test data set does not have\n",
    "set(train.columns) - set(test.columns)"
   ]
  },
  {
   "cell_type": "code",
   "execution_count": 164,
   "id": "093ec1ed-df9f-4c86-bedc-9972ce96ad2c",
   "metadata": {
    "tags": []
   },
   "outputs": [
    {
     "data": {
      "text/html": [
       "<div>\n",
       "<style scoped>\n",
       "    .dataframe tbody tr th:only-of-type {\n",
       "        vertical-align: middle;\n",
       "    }\n",
       "\n",
       "    .dataframe tbody tr th {\n",
       "        vertical-align: top;\n",
       "    }\n",
       "\n",
       "    .dataframe thead th {\n",
       "        text-align: right;\n",
       "    }\n",
       "</style>\n",
       "<table border=\"1\" class=\"dataframe\">\n",
       "  <thead>\n",
       "    <tr style=\"text-align: right;\">\n",
       "      <th></th>\n",
       "      <th>Id</th>\n",
       "      <th>PID</th>\n",
       "      <th>MS SubClass</th>\n",
       "      <th>MS Zoning</th>\n",
       "      <th>Lot Frontage</th>\n",
       "      <th>Lot Area</th>\n",
       "      <th>Street</th>\n",
       "      <th>Alley</th>\n",
       "      <th>Lot Shape</th>\n",
       "      <th>Land Contour</th>\n",
       "      <th>...</th>\n",
       "      <th>Screen Porch</th>\n",
       "      <th>Pool Area</th>\n",
       "      <th>Pool QC</th>\n",
       "      <th>Fence</th>\n",
       "      <th>Misc Feature</th>\n",
       "      <th>Misc Val</th>\n",
       "      <th>Mo Sold</th>\n",
       "      <th>Yr Sold</th>\n",
       "      <th>Sale Type</th>\n",
       "      <th>SalePrice</th>\n",
       "    </tr>\n",
       "  </thead>\n",
       "  <tbody>\n",
       "    <tr>\n",
       "      <th>0</th>\n",
       "      <td>109</td>\n",
       "      <td>533352170</td>\n",
       "      <td>60</td>\n",
       "      <td>RL</td>\n",
       "      <td>NaN</td>\n",
       "      <td>13517</td>\n",
       "      <td>Pave</td>\n",
       "      <td>NA</td>\n",
       "      <td>IR1</td>\n",
       "      <td>Lvl</td>\n",
       "      <td>...</td>\n",
       "      <td>0</td>\n",
       "      <td>0</td>\n",
       "      <td>NA</td>\n",
       "      <td>NA</td>\n",
       "      <td>NA</td>\n",
       "      <td>0</td>\n",
       "      <td>3</td>\n",
       "      <td>2010</td>\n",
       "      <td>WD</td>\n",
       "      <td>130500</td>\n",
       "    </tr>\n",
       "    <tr>\n",
       "      <th>1</th>\n",
       "      <td>544</td>\n",
       "      <td>531379050</td>\n",
       "      <td>60</td>\n",
       "      <td>RL</td>\n",
       "      <td>43.0</td>\n",
       "      <td>11492</td>\n",
       "      <td>Pave</td>\n",
       "      <td>NA</td>\n",
       "      <td>IR1</td>\n",
       "      <td>Lvl</td>\n",
       "      <td>...</td>\n",
       "      <td>0</td>\n",
       "      <td>0</td>\n",
       "      <td>NA</td>\n",
       "      <td>NA</td>\n",
       "      <td>NA</td>\n",
       "      <td>0</td>\n",
       "      <td>4</td>\n",
       "      <td>2009</td>\n",
       "      <td>WD</td>\n",
       "      <td>220000</td>\n",
       "    </tr>\n",
       "    <tr>\n",
       "      <th>2</th>\n",
       "      <td>153</td>\n",
       "      <td>535304180</td>\n",
       "      <td>20</td>\n",
       "      <td>RL</td>\n",
       "      <td>68.0</td>\n",
       "      <td>7922</td>\n",
       "      <td>Pave</td>\n",
       "      <td>NA</td>\n",
       "      <td>Reg</td>\n",
       "      <td>Lvl</td>\n",
       "      <td>...</td>\n",
       "      <td>0</td>\n",
       "      <td>0</td>\n",
       "      <td>NA</td>\n",
       "      <td>NA</td>\n",
       "      <td>NA</td>\n",
       "      <td>0</td>\n",
       "      <td>1</td>\n",
       "      <td>2010</td>\n",
       "      <td>WD</td>\n",
       "      <td>109000</td>\n",
       "    </tr>\n",
       "    <tr>\n",
       "      <th>3</th>\n",
       "      <td>318</td>\n",
       "      <td>916386060</td>\n",
       "      <td>60</td>\n",
       "      <td>RL</td>\n",
       "      <td>73.0</td>\n",
       "      <td>9802</td>\n",
       "      <td>Pave</td>\n",
       "      <td>NA</td>\n",
       "      <td>Reg</td>\n",
       "      <td>Lvl</td>\n",
       "      <td>...</td>\n",
       "      <td>0</td>\n",
       "      <td>0</td>\n",
       "      <td>NA</td>\n",
       "      <td>NA</td>\n",
       "      <td>NA</td>\n",
       "      <td>0</td>\n",
       "      <td>4</td>\n",
       "      <td>2010</td>\n",
       "      <td>WD</td>\n",
       "      <td>174000</td>\n",
       "    </tr>\n",
       "    <tr>\n",
       "      <th>4</th>\n",
       "      <td>255</td>\n",
       "      <td>906425045</td>\n",
       "      <td>50</td>\n",
       "      <td>RL</td>\n",
       "      <td>82.0</td>\n",
       "      <td>14235</td>\n",
       "      <td>Pave</td>\n",
       "      <td>NA</td>\n",
       "      <td>IR1</td>\n",
       "      <td>Lvl</td>\n",
       "      <td>...</td>\n",
       "      <td>0</td>\n",
       "      <td>0</td>\n",
       "      <td>NA</td>\n",
       "      <td>NA</td>\n",
       "      <td>NA</td>\n",
       "      <td>0</td>\n",
       "      <td>3</td>\n",
       "      <td>2010</td>\n",
       "      <td>WD</td>\n",
       "      <td>138500</td>\n",
       "    </tr>\n",
       "  </tbody>\n",
       "</table>\n",
       "<p>5 rows × 81 columns</p>\n",
       "</div>"
      ],
      "text/plain": [
       "    Id        PID  MS SubClass MS Zoning  Lot Frontage  Lot Area Street Alley  \\\n",
       "0  109  533352170           60        RL           NaN     13517   Pave    NA   \n",
       "1  544  531379050           60        RL          43.0     11492   Pave    NA   \n",
       "2  153  535304180           20        RL          68.0      7922   Pave    NA   \n",
       "3  318  916386060           60        RL          73.0      9802   Pave    NA   \n",
       "4  255  906425045           50        RL          82.0     14235   Pave    NA   \n",
       "\n",
       "  Lot Shape Land Contour  ... Screen Porch Pool Area Pool QC Fence  \\\n",
       "0       IR1          Lvl  ...            0         0      NA    NA   \n",
       "1       IR1          Lvl  ...            0         0      NA    NA   \n",
       "2       Reg          Lvl  ...            0         0      NA    NA   \n",
       "3       Reg          Lvl  ...            0         0      NA    NA   \n",
       "4       IR1          Lvl  ...            0         0      NA    NA   \n",
       "\n",
       "  Misc Feature Misc Val Mo Sold Yr Sold  Sale Type  SalePrice  \n",
       "0           NA        0       3    2010        WD      130500  \n",
       "1           NA        0       4    2009        WD      220000  \n",
       "2           NA        0       1    2010        WD      109000  \n",
       "3           NA        0       4    2010        WD      174000  \n",
       "4           NA        0       3    2010        WD      138500  \n",
       "\n",
       "[5 rows x 81 columns]"
      ]
     },
     "execution_count": 164,
     "metadata": {},
     "output_type": "execute_result"
    }
   ],
   "source": [
    "train.head()"
   ]
  },
  {
   "cell_type": "code",
   "execution_count": 165,
   "id": "e119b72b-7458-4116-941c-f56f6b0ad95e",
   "metadata": {
    "tags": []
   },
   "outputs": [
    {
     "data": {
      "text/html": [
       "<div>\n",
       "<style scoped>\n",
       "    .dataframe tbody tr th:only-of-type {\n",
       "        vertical-align: middle;\n",
       "    }\n",
       "\n",
       "    .dataframe tbody tr th {\n",
       "        vertical-align: top;\n",
       "    }\n",
       "\n",
       "    .dataframe thead th {\n",
       "        text-align: right;\n",
       "    }\n",
       "</style>\n",
       "<table border=\"1\" class=\"dataframe\">\n",
       "  <thead>\n",
       "    <tr style=\"text-align: right;\">\n",
       "      <th></th>\n",
       "      <th>Id</th>\n",
       "      <th>PID</th>\n",
       "      <th>MS SubClass</th>\n",
       "      <th>MS Zoning</th>\n",
       "      <th>Lot Frontage</th>\n",
       "      <th>Lot Area</th>\n",
       "      <th>Street</th>\n",
       "      <th>Alley</th>\n",
       "      <th>Lot Shape</th>\n",
       "      <th>Land Contour</th>\n",
       "      <th>...</th>\n",
       "      <th>3Ssn Porch</th>\n",
       "      <th>Screen Porch</th>\n",
       "      <th>Pool Area</th>\n",
       "      <th>Pool QC</th>\n",
       "      <th>Fence</th>\n",
       "      <th>Misc Feature</th>\n",
       "      <th>Misc Val</th>\n",
       "      <th>Mo Sold</th>\n",
       "      <th>Yr Sold</th>\n",
       "      <th>Sale Type</th>\n",
       "    </tr>\n",
       "  </thead>\n",
       "  <tbody>\n",
       "    <tr>\n",
       "      <th>0</th>\n",
       "      <td>2658</td>\n",
       "      <td>902301120</td>\n",
       "      <td>190</td>\n",
       "      <td>RM</td>\n",
       "      <td>69.0</td>\n",
       "      <td>9142</td>\n",
       "      <td>Pave</td>\n",
       "      <td>Grvl</td>\n",
       "      <td>Reg</td>\n",
       "      <td>Lvl</td>\n",
       "      <td>...</td>\n",
       "      <td>0</td>\n",
       "      <td>0</td>\n",
       "      <td>0</td>\n",
       "      <td>NA</td>\n",
       "      <td>NA</td>\n",
       "      <td>NA</td>\n",
       "      <td>0</td>\n",
       "      <td>4</td>\n",
       "      <td>2006</td>\n",
       "      <td>WD</td>\n",
       "    </tr>\n",
       "    <tr>\n",
       "      <th>1</th>\n",
       "      <td>2718</td>\n",
       "      <td>905108090</td>\n",
       "      <td>90</td>\n",
       "      <td>RL</td>\n",
       "      <td>NaN</td>\n",
       "      <td>9662</td>\n",
       "      <td>Pave</td>\n",
       "      <td>NA</td>\n",
       "      <td>IR1</td>\n",
       "      <td>Lvl</td>\n",
       "      <td>...</td>\n",
       "      <td>0</td>\n",
       "      <td>0</td>\n",
       "      <td>0</td>\n",
       "      <td>NA</td>\n",
       "      <td>NA</td>\n",
       "      <td>NA</td>\n",
       "      <td>0</td>\n",
       "      <td>8</td>\n",
       "      <td>2006</td>\n",
       "      <td>WD</td>\n",
       "    </tr>\n",
       "    <tr>\n",
       "      <th>2</th>\n",
       "      <td>2414</td>\n",
       "      <td>528218130</td>\n",
       "      <td>60</td>\n",
       "      <td>RL</td>\n",
       "      <td>58.0</td>\n",
       "      <td>17104</td>\n",
       "      <td>Pave</td>\n",
       "      <td>NA</td>\n",
       "      <td>IR1</td>\n",
       "      <td>Lvl</td>\n",
       "      <td>...</td>\n",
       "      <td>0</td>\n",
       "      <td>0</td>\n",
       "      <td>0</td>\n",
       "      <td>NA</td>\n",
       "      <td>NA</td>\n",
       "      <td>NA</td>\n",
       "      <td>0</td>\n",
       "      <td>9</td>\n",
       "      <td>2006</td>\n",
       "      <td>New</td>\n",
       "    </tr>\n",
       "    <tr>\n",
       "      <th>3</th>\n",
       "      <td>1989</td>\n",
       "      <td>902207150</td>\n",
       "      <td>30</td>\n",
       "      <td>RM</td>\n",
       "      <td>60.0</td>\n",
       "      <td>8520</td>\n",
       "      <td>Pave</td>\n",
       "      <td>NA</td>\n",
       "      <td>Reg</td>\n",
       "      <td>Lvl</td>\n",
       "      <td>...</td>\n",
       "      <td>0</td>\n",
       "      <td>0</td>\n",
       "      <td>0</td>\n",
       "      <td>NA</td>\n",
       "      <td>NA</td>\n",
       "      <td>NA</td>\n",
       "      <td>0</td>\n",
       "      <td>7</td>\n",
       "      <td>2007</td>\n",
       "      <td>WD</td>\n",
       "    </tr>\n",
       "    <tr>\n",
       "      <th>4</th>\n",
       "      <td>625</td>\n",
       "      <td>535105100</td>\n",
       "      <td>20</td>\n",
       "      <td>RL</td>\n",
       "      <td>NaN</td>\n",
       "      <td>9500</td>\n",
       "      <td>Pave</td>\n",
       "      <td>NA</td>\n",
       "      <td>IR1</td>\n",
       "      <td>Lvl</td>\n",
       "      <td>...</td>\n",
       "      <td>0</td>\n",
       "      <td>185</td>\n",
       "      <td>0</td>\n",
       "      <td>NA</td>\n",
       "      <td>NA</td>\n",
       "      <td>NA</td>\n",
       "      <td>0</td>\n",
       "      <td>7</td>\n",
       "      <td>2009</td>\n",
       "      <td>WD</td>\n",
       "    </tr>\n",
       "  </tbody>\n",
       "</table>\n",
       "<p>5 rows × 80 columns</p>\n",
       "</div>"
      ],
      "text/plain": [
       "     Id        PID  MS SubClass MS Zoning  Lot Frontage  Lot Area Street  \\\n",
       "0  2658  902301120          190        RM          69.0      9142   Pave   \n",
       "1  2718  905108090           90        RL           NaN      9662   Pave   \n",
       "2  2414  528218130           60        RL          58.0     17104   Pave   \n",
       "3  1989  902207150           30        RM          60.0      8520   Pave   \n",
       "4   625  535105100           20        RL           NaN      9500   Pave   \n",
       "\n",
       "  Alley Lot Shape Land Contour  ... 3Ssn Porch Screen Porch Pool Area Pool QC  \\\n",
       "0  Grvl       Reg          Lvl  ...          0            0         0      NA   \n",
       "1    NA       IR1          Lvl  ...          0            0         0      NA   \n",
       "2    NA       IR1          Lvl  ...          0            0         0      NA   \n",
       "3    NA       Reg          Lvl  ...          0            0         0      NA   \n",
       "4    NA       IR1          Lvl  ...          0          185         0      NA   \n",
       "\n",
       "  Fence Misc Feature Misc Val Mo Sold  Yr Sold  Sale Type  \n",
       "0    NA           NA        0       4     2006        WD   \n",
       "1    NA           NA        0       8     2006        WD   \n",
       "2    NA           NA        0       9     2006        New  \n",
       "3    NA           NA        0       7     2007        WD   \n",
       "4    NA           NA        0       7     2009        WD   \n",
       "\n",
       "[5 rows x 80 columns]"
      ]
     },
     "execution_count": 165,
     "metadata": {},
     "output_type": "execute_result"
    }
   ],
   "source": [
    "test.head()"
   ]
  },
  {
   "cell_type": "code",
   "execution_count": 166,
   "id": "6c61b095-cc2b-4ee4-aa61-81c61a33ed05",
   "metadata": {
    "tags": []
   },
   "outputs": [
    {
     "data": {
      "text/plain": [
       "Lot Frontage      330\n",
       "Garage Yr Blt     114\n",
       "Mas Vnr Type       22\n",
       "Mas Vnr Area       22\n",
       "Bsmt Exposure       4\n",
       "BsmtFin Type 2      2\n",
       "Bsmt Full Bath      2\n",
       "Bsmt Half Bath      2\n",
       "Garage Cond         1\n",
       "Bsmt Qual           1\n",
       "Garage Finish       1\n",
       "Garage Cars         1\n",
       "Garage Area         1\n",
       "Garage Qual         1\n",
       "Total Bsmt SF       1\n",
       "BsmtFin Type 1      1\n",
       "Bsmt Cond           1\n",
       "BsmtFin SF 1        1\n",
       "BsmtFin SF 2        1\n",
       "Bsmt Unf SF         1\n",
       "dtype: int64"
      ]
     },
     "execution_count": 166,
     "metadata": {},
     "output_type": "execute_result"
    }
   ],
   "source": [
    "train.isnull().sum().sort_values(ascending = False).loc[lambda x: x > 0]"
   ]
  },
  {
   "cell_type": "code",
   "execution_count": 167,
   "id": "b2df8926-0615-4d24-9083-96a53485de7c",
   "metadata": {},
   "outputs": [
    {
     "data": {
      "text/plain": [
       "Lot Frontage     160\n",
       "Garage Yr Blt     45\n",
       "Garage Finish      1\n",
       "Mas Vnr Area       1\n",
       "Mas Vnr Type       1\n",
       "Electrical         1\n",
       "dtype: int64"
      ]
     },
     "execution_count": 167,
     "metadata": {},
     "output_type": "execute_result"
    }
   ],
   "source": [
    "test.isnull().sum().sort_values(ascending = False).loc[lambda x: x > 0]"
   ]
  },
  {
   "cell_type": "code",
   "execution_count": 168,
   "id": "f8435002-abe1-4fe2-884f-e234660d64ad",
   "metadata": {
    "tags": []
   },
   "outputs": [
    {
     "data": {
      "text/plain": [
       "Id                int64\n",
       "PID               int64\n",
       "MS SubClass       int64\n",
       "MS Zoning        object\n",
       "Lot Frontage    float64\n",
       "                 ...   \n",
       "Misc Val          int64\n",
       "Mo Sold           int64\n",
       "Yr Sold           int64\n",
       "Sale Type        object\n",
       "SalePrice         int64\n",
       "Length: 81, dtype: object"
      ]
     },
     "execution_count": 168,
     "metadata": {},
     "output_type": "execute_result"
    }
   ],
   "source": [
    "train.dtypes"
   ]
  },
  {
   "cell_type": "markdown",
   "id": "3253f726-f0e8-4bff-8eeb-46158f2aef16",
   "metadata": {
    "tags": []
   },
   "source": [
    "## 2. Data Cleaning"
   ]
  },
  {
   "cell_type": "markdown",
   "id": "57a9dfbd-2559-4e97-9c08-802cc7bae52f",
   "metadata": {},
   "source": [
    "### 2.1. Data Cleaning: Initial"
   ]
  },
  {
   "cell_type": "code",
   "execution_count": 169,
   "id": "61944691-301a-4a2f-a5d2-4a618cfd72b0",
   "metadata": {},
   "outputs": [],
   "source": [
    "# Add new columns to determine how old the house is when being sold\n",
    "train['house_age_built'] = train['Yr Sold'] - train['Year Built']\n",
    "train['house_age_remodel'] = train['Yr Sold'] - train['Year Remod/Add']\n",
    "\n",
    "test['house_age_built'] = test['Yr Sold'] - test['Year Built']\n",
    "test['house_age_remodel'] = test['Yr Sold'] - test['Year Remod/Add']"
   ]
  },
  {
   "cell_type": "code",
   "execution_count": 170,
   "id": "faa3757b-5a78-45b6-8f05-a909efe9ec31",
   "metadata": {
    "tags": []
   },
   "outputs": [],
   "source": [
    "# Delete columns that either have nothing to do with price or useless columns \n",
    "train.drop(columns = ['PID', 'Yr Sold', 'Year Built', 'Year Remod/Add'], inplace = True)\n",
    "test.drop(columns = ['PID', 'Yr Sold', 'Year Built', 'Year Remod/Add'], inplace = True)"
   ]
  },
  {
   "cell_type": "code",
   "execution_count": 171,
   "id": "6bf18c9f-fd3c-4609-b641-9271e2fde9b5",
   "metadata": {},
   "outputs": [
    {
     "data": {
      "text/plain": [
       "((2051, 79), (878, 78))"
      ]
     },
     "execution_count": 171,
     "metadata": {},
     "output_type": "execute_result"
    }
   ],
   "source": [
    "train.shape, test.shape"
   ]
  },
  {
   "cell_type": "code",
   "execution_count": 172,
   "id": "4cffbfb9-69e5-4348-955d-7f2a12033c6c",
   "metadata": {},
   "outputs": [],
   "source": [
    "# Convert rating columns to numeric\n",
    "# EX: 5, Gd: 4, TA: 3, Fa: 2, Po: 1\n",
    "\n",
    "def convert_rate(rating):\n",
    "        if rating == 'Ex':\n",
    "            return 5\n",
    "        elif rating == 'Gd':\n",
    "            return 4\n",
    "        elif rating == 'TA':\n",
    "            return 3\n",
    "        elif rating == 'Fa':\n",
    "            return 2\n",
    "        elif rating == 'Po':\n",
    "            return 1"
   ]
  },
  {
   "cell_type": "code",
   "execution_count": 173,
   "id": "f660af22-f1c4-4110-accf-fb863dfc77bf",
   "metadata": {},
   "outputs": [
    {
     "data": {
      "text/plain": [
       "['Exter Qual',\n",
       " 'Exter Cond',\n",
       " 'Bsmt Qual',\n",
       " 'Bsmt Cond',\n",
       " 'Heating QC',\n",
       " 'Kitchen Qual',\n",
       " 'Fireplace Qu',\n",
       " 'Garage Qual',\n",
       " 'Garage Cond',\n",
       " 'Pool QC']"
      ]
     },
     "execution_count": 173,
     "metadata": {},
     "output_type": "execute_result"
    }
   ],
   "source": [
    "adj_col = []\n",
    "for col in train.columns:\n",
    "    if 'TA' in list(train[col]):    \n",
    "        adj_col.append(col)\n",
    "adj_col"
   ]
  },
  {
   "cell_type": "code",
   "execution_count": 174,
   "id": "12a90614-06ee-40ad-a486-69b6eda519b4",
   "metadata": {
    "tags": []
   },
   "outputs": [],
   "source": [
    "for col in adj_col:\n",
    "    train[col] = train[col].apply(convert_rate)"
   ]
  },
  {
   "cell_type": "code",
   "execution_count": 175,
   "id": "1a2af6f7-c8e7-4d6e-897f-717a5deaac10",
   "metadata": {},
   "outputs": [],
   "source": [
    "# Convert Yes/No columns to be numeric\n",
    "train['Central Air'] = train['Central Air'].replace('Y', 1)\n",
    "train['Central Air'] = train['Central Air'].replace('N', 0)\n",
    "\n",
    "train['Paved Drive'] = train['Paved Drive'].replace('Y', 1)\n",
    "train['Paved Drive'] = train['Paved Drive'].replace('P', 0.5)\n",
    "train['Paved Drive'] = train['Paved Drive'].replace('N', 0)"
   ]
  },
  {
   "cell_type": "code",
   "execution_count": 176,
   "id": "84b8a3a3-7f49-4093-8fc5-ed50c89343a5",
   "metadata": {},
   "outputs": [],
   "source": [
    "adj_col = []\n",
    "for col in test.columns:\n",
    "    if 'TA' in list(test[col]):    \n",
    "        adj_col.append(col)\n",
    "for col in adj_col:\n",
    "    test[col] = test[col].apply(convert_rate)"
   ]
  },
  {
   "cell_type": "code",
   "execution_count": 177,
   "id": "f502c3e8-4491-4725-aa33-f7a0888280c1",
   "metadata": {
    "tags": []
   },
   "outputs": [],
   "source": [
    "test['Central Air'] = test['Central Air'].replace('Y', 1)\n",
    "test['Central Air'] = test['Central Air'].replace('N', 0)\n",
    "\n",
    "test['Paved Drive'] = test['Paved Drive'].replace('Y', 1)\n",
    "test['Paved Drive'] = test['Paved Drive'].replace('P', 0.5)\n",
    "test['Paved Drive'] = test['Paved Drive'].replace('N', 0)"
   ]
  },
  {
   "cell_type": "code",
   "execution_count": 178,
   "id": "87c68f1b-c479-44f6-b710-cbc4669468f4",
   "metadata": {
    "tags": []
   },
   "outputs": [],
   "source": [
    "train.columns = train.columns.str.lower().str.replace(' ', '_')\n",
    "test.columns = test.columns.str.lower().str.replace( ' ', '_')"
   ]
  },
  {
   "cell_type": "code",
   "execution_count": 179,
   "id": "ffcba19c-c097-4dc0-bb4b-423272143ef1",
   "metadata": {
    "tags": []
   },
   "outputs": [
    {
     "data": {
      "text/plain": [
       "((2051, 79), (878, 78))"
      ]
     },
     "execution_count": 179,
     "metadata": {},
     "output_type": "execute_result"
    }
   ],
   "source": [
    "train.shape, test.shape"
   ]
  },
  {
   "cell_type": "markdown",
   "id": "33999439-c114-498b-b0db-ccb25e0d685c",
   "metadata": {},
   "source": [
    "### 2.2. Data Cleaning: Split Data"
   ]
  },
  {
   "cell_type": "code",
   "execution_count": 182,
   "id": "cc276e54-4f8e-4d09-bca4-f7bac1421175",
   "metadata": {},
   "outputs": [],
   "source": [
    "X = train.drop(columns = ['saleprice'])\n",
    "y = train['saleprice']"
   ]
  },
  {
   "cell_type": "code",
   "execution_count": 183,
   "id": "b0902fdc-1d9b-42a8-998c-19de379b2c72",
   "metadata": {},
   "outputs": [],
   "source": [
    "X_train, X_val, y_train, y_val = train_test_split(X, y, test_size = 0.2, random_state = 42)"
   ]
  },
  {
   "cell_type": "markdown",
   "id": "8ba30a4f-6429-4a51-8772-3517773c692d",
   "metadata": {},
   "source": [
    "We will use X_train for creating the model and X_val for validating the model"
   ]
  },
  {
   "cell_type": "code",
   "execution_count": 184,
   "id": "6b3394bd-c32c-4d34-a7c6-c0dbe713235b",
   "metadata": {
    "tags": []
   },
   "outputs": [
    {
     "data": {
      "text/plain": [
       "((1640, 78), (411, 78), (878, 78))"
      ]
     },
     "execution_count": 184,
     "metadata": {},
     "output_type": "execute_result"
    }
   ],
   "source": [
    "X_train.shape, X_val.shape, test.shape"
   ]
  },
  {
   "cell_type": "code",
   "execution_count": 185,
   "id": "1de1eac5-d4c4-4dd0-acfc-2fa0637f4e82",
   "metadata": {},
   "outputs": [
    {
     "data": {
      "text/html": [
       "<div>\n",
       "<style scoped>\n",
       "    .dataframe tbody tr th:only-of-type {\n",
       "        vertical-align: middle;\n",
       "    }\n",
       "\n",
       "    .dataframe tbody tr th {\n",
       "        vertical-align: top;\n",
       "    }\n",
       "\n",
       "    .dataframe thead th {\n",
       "        text-align: right;\n",
       "    }\n",
       "</style>\n",
       "<table border=\"1\" class=\"dataframe\">\n",
       "  <thead>\n",
       "    <tr style=\"text-align: right;\">\n",
       "      <th></th>\n",
       "      <th>id</th>\n",
       "      <th>ms_subclass</th>\n",
       "      <th>ms_zoning</th>\n",
       "      <th>lot_frontage</th>\n",
       "      <th>lot_area</th>\n",
       "      <th>street</th>\n",
       "      <th>alley</th>\n",
       "      <th>lot_shape</th>\n",
       "      <th>land_contour</th>\n",
       "      <th>utilities</th>\n",
       "      <th>...</th>\n",
       "      <th>screen_porch</th>\n",
       "      <th>pool_area</th>\n",
       "      <th>pool_qc</th>\n",
       "      <th>fence</th>\n",
       "      <th>misc_feature</th>\n",
       "      <th>misc_val</th>\n",
       "      <th>mo_sold</th>\n",
       "      <th>sale_type</th>\n",
       "      <th>house_age_built</th>\n",
       "      <th>house_age_remodel</th>\n",
       "    </tr>\n",
       "  </thead>\n",
       "  <tbody>\n",
       "    <tr>\n",
       "      <th>1448</th>\n",
       "      <td>452</td>\n",
       "      <td>120</td>\n",
       "      <td>RL</td>\n",
       "      <td>47.0</td>\n",
       "      <td>6904</td>\n",
       "      <td>Pave</td>\n",
       "      <td>NA</td>\n",
       "      <td>IR1</td>\n",
       "      <td>Lvl</td>\n",
       "      <td>AllPub</td>\n",
       "      <td>...</td>\n",
       "      <td>0</td>\n",
       "      <td>0</td>\n",
       "      <td>NaN</td>\n",
       "      <td>NA</td>\n",
       "      <td>NA</td>\n",
       "      <td>0</td>\n",
       "      <td>8</td>\n",
       "      <td>WD</td>\n",
       "      <td>4</td>\n",
       "      <td>4</td>\n",
       "    </tr>\n",
       "    <tr>\n",
       "      <th>1771</th>\n",
       "      <td>1697</td>\n",
       "      <td>20</td>\n",
       "      <td>RL</td>\n",
       "      <td>110.0</td>\n",
       "      <td>14226</td>\n",
       "      <td>Pave</td>\n",
       "      <td>NA</td>\n",
       "      <td>Reg</td>\n",
       "      <td>Lvl</td>\n",
       "      <td>AllPub</td>\n",
       "      <td>...</td>\n",
       "      <td>0</td>\n",
       "      <td>0</td>\n",
       "      <td>NaN</td>\n",
       "      <td>NA</td>\n",
       "      <td>NA</td>\n",
       "      <td>0</td>\n",
       "      <td>7</td>\n",
       "      <td>New</td>\n",
       "      <td>1</td>\n",
       "      <td>1</td>\n",
       "    </tr>\n",
       "    <tr>\n",
       "      <th>966</th>\n",
       "      <td>2294</td>\n",
       "      <td>80</td>\n",
       "      <td>RL</td>\n",
       "      <td>NaN</td>\n",
       "      <td>15957</td>\n",
       "      <td>Pave</td>\n",
       "      <td>NA</td>\n",
       "      <td>IR1</td>\n",
       "      <td>Low</td>\n",
       "      <td>AllPub</td>\n",
       "      <td>...</td>\n",
       "      <td>0</td>\n",
       "      <td>0</td>\n",
       "      <td>NaN</td>\n",
       "      <td>MnPrv</td>\n",
       "      <td>NA</td>\n",
       "      <td>0</td>\n",
       "      <td>9</td>\n",
       "      <td>WD</td>\n",
       "      <td>30</td>\n",
       "      <td>30</td>\n",
       "    </tr>\n",
       "    <tr>\n",
       "      <th>1604</th>\n",
       "      <td>2449</td>\n",
       "      <td>60</td>\n",
       "      <td>RL</td>\n",
       "      <td>93.0</td>\n",
       "      <td>12090</td>\n",
       "      <td>Pave</td>\n",
       "      <td>NA</td>\n",
       "      <td>Reg</td>\n",
       "      <td>Lvl</td>\n",
       "      <td>AllPub</td>\n",
       "      <td>...</td>\n",
       "      <td>0</td>\n",
       "      <td>0</td>\n",
       "      <td>NaN</td>\n",
       "      <td>NA</td>\n",
       "      <td>NA</td>\n",
       "      <td>0</td>\n",
       "      <td>7</td>\n",
       "      <td>WD</td>\n",
       "      <td>8</td>\n",
       "      <td>8</td>\n",
       "    </tr>\n",
       "    <tr>\n",
       "      <th>1827</th>\n",
       "      <td>1859</td>\n",
       "      <td>80</td>\n",
       "      <td>RL</td>\n",
       "      <td>80.0</td>\n",
       "      <td>9600</td>\n",
       "      <td>Pave</td>\n",
       "      <td>NA</td>\n",
       "      <td>Reg</td>\n",
       "      <td>Lvl</td>\n",
       "      <td>AllPub</td>\n",
       "      <td>...</td>\n",
       "      <td>0</td>\n",
       "      <td>0</td>\n",
       "      <td>NaN</td>\n",
       "      <td>NA</td>\n",
       "      <td>NA</td>\n",
       "      <td>0</td>\n",
       "      <td>8</td>\n",
       "      <td>WD</td>\n",
       "      <td>31</td>\n",
       "      <td>13</td>\n",
       "    </tr>\n",
       "  </tbody>\n",
       "</table>\n",
       "<p>5 rows × 78 columns</p>\n",
       "</div>"
      ],
      "text/plain": [
       "        id  ms_subclass ms_zoning  lot_frontage  lot_area street alley  \\\n",
       "1448   452          120        RL          47.0      6904   Pave    NA   \n",
       "1771  1697           20        RL         110.0     14226   Pave    NA   \n",
       "966   2294           80        RL           NaN     15957   Pave    NA   \n",
       "1604  2449           60        RL          93.0     12090   Pave    NA   \n",
       "1827  1859           80        RL          80.0      9600   Pave    NA   \n",
       "\n",
       "     lot_shape land_contour utilities  ... screen_porch pool_area pool_qc  \\\n",
       "1448       IR1          Lvl    AllPub  ...            0         0     NaN   \n",
       "1771       Reg          Lvl    AllPub  ...            0         0     NaN   \n",
       "966        IR1          Low    AllPub  ...            0         0     NaN   \n",
       "1604       Reg          Lvl    AllPub  ...            0         0     NaN   \n",
       "1827       Reg          Lvl    AllPub  ...            0         0     NaN   \n",
       "\n",
       "      fence misc_feature misc_val mo_sold  sale_type  house_age_built  \\\n",
       "1448     NA           NA        0       8        WD                 4   \n",
       "1771     NA           NA        0       7        New                1   \n",
       "966   MnPrv           NA        0       9        WD                30   \n",
       "1604     NA           NA        0       7        WD                 8   \n",
       "1827     NA           NA        0       8        WD                31   \n",
       "\n",
       "     house_age_remodel  \n",
       "1448                 4  \n",
       "1771                 1  \n",
       "966                 30  \n",
       "1604                 8  \n",
       "1827                13  \n",
       "\n",
       "[5 rows x 78 columns]"
      ]
     },
     "execution_count": 185,
     "metadata": {},
     "output_type": "execute_result"
    }
   ],
   "source": [
    "X_train.head()"
   ]
  },
  {
   "cell_type": "markdown",
   "id": "5deb46b7-84b1-4170-820c-2e6ba869f67f",
   "metadata": {},
   "source": [
    "### 2.3. Data Cleaning: Separate Numeric and Obejct Data Columns"
   ]
  },
  {
   "cell_type": "code",
   "execution_count": 186,
   "id": "e2079fa1-437c-4cb9-9d8c-236832566aa3",
   "metadata": {
    "tags": []
   },
   "outputs": [
    {
     "data": {
      "text/plain": [
       "int64      31\n",
       "object     30\n",
       "float64    18\n",
       "dtype: int64"
      ]
     },
     "execution_count": 186,
     "metadata": {},
     "output_type": "execute_result"
    }
   ],
   "source": [
    "# There are still so many columns, let's separate numeric and object columns. Numeric columns can be edited directly and object columns are required to dummfied. \n",
    "train.dtypes.value_counts()"
   ]
  },
  {
   "cell_type": "code",
   "execution_count": 187,
   "id": "c42734c3-297f-41f9-b72f-5cf4c86959c0",
   "metadata": {},
   "outputs": [
    {
     "data": {
      "text/plain": [
       "int64      38\n",
       "object     30\n",
       "float64    10\n",
       "dtype: int64"
      ]
     },
     "execution_count": 187,
     "metadata": {},
     "output_type": "execute_result"
    }
   ],
   "source": [
    "test.dtypes.value_counts()"
   ]
  },
  {
   "cell_type": "code",
   "execution_count": 188,
   "id": "3d6dabad-9925-4c04-9708-951fd471e112",
   "metadata": {
    "tags": []
   },
   "outputs": [],
   "source": [
    "X_train_num = X_train._get_numeric_data()"
   ]
  },
  {
   "cell_type": "code",
   "execution_count": 189,
   "id": "395e57d2-b8ba-4e67-892e-98f2404032cf",
   "metadata": {},
   "outputs": [],
   "source": [
    "X_train_obj = X_train[X_train.dtypes[X_train.dtypes == 'object'].index]"
   ]
  },
  {
   "cell_type": "code",
   "execution_count": 190,
   "id": "c078c67d-f31d-4057-86b2-b33d06fa1ced",
   "metadata": {},
   "outputs": [],
   "source": [
    "X_val_num = X_val._get_numeric_data()"
   ]
  },
  {
   "cell_type": "code",
   "execution_count": 191,
   "id": "b0103a22-5c53-4faf-a4b3-9c6f8b62767c",
   "metadata": {},
   "outputs": [],
   "source": [
    "X_val_obj = X_val[X_val.dtypes[X_val.dtypes == 'object'].index]"
   ]
  },
  {
   "cell_type": "code",
   "execution_count": 192,
   "id": "e9a009cb-2f08-4fbb-92d7-534db1c45fe4",
   "metadata": {},
   "outputs": [],
   "source": [
    "test_num = test._get_numeric_data()"
   ]
  },
  {
   "cell_type": "code",
   "execution_count": 193,
   "id": "4087103e-a26d-430c-a1bd-76b010169f65",
   "metadata": {},
   "outputs": [],
   "source": [
    "test_obj = test[test.dtypes[test.dtypes == 'object'].index]"
   ]
  },
  {
   "cell_type": "code",
   "execution_count": 194,
   "id": "c8e77899-80c4-4dee-b2eb-0e8d528a2159",
   "metadata": {
    "tags": []
   },
   "outputs": [
    {
     "data": {
      "text/plain": [
       "((1640, 48), (1640, 30))"
      ]
     },
     "execution_count": 194,
     "metadata": {},
     "output_type": "execute_result"
    }
   ],
   "source": [
    "X_train_num.shape, X_train_obj.shape"
   ]
  },
  {
   "cell_type": "code",
   "execution_count": 195,
   "id": "653b84bd-5b8a-4a8f-958a-3135255c6d9d",
   "metadata": {
    "tags": []
   },
   "outputs": [
    {
     "data": {
      "text/plain": [
       "((411, 48), (411, 30))"
      ]
     },
     "execution_count": 195,
     "metadata": {},
     "output_type": "execute_result"
    }
   ],
   "source": [
    "X_val_num.shape, X_val_obj.shape"
   ]
  },
  {
   "cell_type": "code",
   "execution_count": 196,
   "id": "2d3cb7d6-ee4d-43ff-8002-8a893c959fa2",
   "metadata": {},
   "outputs": [
    {
     "data": {
      "text/plain": [
       "((878, 48), (878, 30))"
      ]
     },
     "execution_count": 196,
     "metadata": {},
     "output_type": "execute_result"
    }
   ],
   "source": [
    "test_num.shape, test_obj.shape"
   ]
  },
  {
   "cell_type": "markdown",
   "id": "d46f5322-ad0b-4d31-bdb3-e30031cf580d",
   "metadata": {},
   "source": [
    "#### 2.3.1. Deal with Numeric Columns"
   ]
  },
  {
   "cell_type": "markdown",
   "id": "72e79c3e-e748-49ed-86ea-91c4ae018217",
   "metadata": {},
   "source": [
    "Since there are still too many numeric columns. we'd select columns by the coorelation with the saleprice. \n",
    "However, the X_train set doesn't have saleprice. We'd go back to combine X_train and y_train and then analyze the correlations with saleprice. "
   ]
  },
  {
   "cell_type": "code",
   "execution_count": 197,
   "id": "2bf3cc1e-74cd-4c1e-a11d-3104fed8f094",
   "metadata": {
    "tags": []
   },
   "outputs": [],
   "source": [
    "X_train_price = pd.concat([X_train_num, y_train], axis = 1)"
   ]
  },
  {
   "cell_type": "code",
   "execution_count": 198,
   "id": "47e7fc3b-5a58-4ae1-a464-4f34ce70781b",
   "metadata": {},
   "outputs": [
    {
     "data": {
      "text/html": [
       "<div>\n",
       "<style scoped>\n",
       "    .dataframe tbody tr th:only-of-type {\n",
       "        vertical-align: middle;\n",
       "    }\n",
       "\n",
       "    .dataframe tbody tr th {\n",
       "        vertical-align: top;\n",
       "    }\n",
       "\n",
       "    .dataframe thead th {\n",
       "        text-align: right;\n",
       "    }\n",
       "</style>\n",
       "<table border=\"1\" class=\"dataframe\">\n",
       "  <thead>\n",
       "    <tr style=\"text-align: right;\">\n",
       "      <th></th>\n",
       "      <th>id</th>\n",
       "      <th>ms_subclass</th>\n",
       "      <th>lot_frontage</th>\n",
       "      <th>lot_area</th>\n",
       "      <th>overall_qual</th>\n",
       "      <th>overall_cond</th>\n",
       "      <th>mas_vnr_area</th>\n",
       "      <th>exter_qual</th>\n",
       "      <th>exter_cond</th>\n",
       "      <th>bsmt_qual</th>\n",
       "      <th>...</th>\n",
       "      <th>enclosed_porch</th>\n",
       "      <th>3ssn_porch</th>\n",
       "      <th>screen_porch</th>\n",
       "      <th>pool_area</th>\n",
       "      <th>pool_qc</th>\n",
       "      <th>misc_val</th>\n",
       "      <th>mo_sold</th>\n",
       "      <th>house_age_built</th>\n",
       "      <th>house_age_remodel</th>\n",
       "      <th>saleprice</th>\n",
       "    </tr>\n",
       "  </thead>\n",
       "  <tbody>\n",
       "    <tr>\n",
       "      <th>1448</th>\n",
       "      <td>452</td>\n",
       "      <td>120</td>\n",
       "      <td>47.0</td>\n",
       "      <td>6904</td>\n",
       "      <td>6</td>\n",
       "      <td>5</td>\n",
       "      <td>240.0</td>\n",
       "      <td>4</td>\n",
       "      <td>3</td>\n",
       "      <td>4.0</td>\n",
       "      <td>...</td>\n",
       "      <td>0</td>\n",
       "      <td>0</td>\n",
       "      <td>0</td>\n",
       "      <td>0</td>\n",
       "      <td>NaN</td>\n",
       "      <td>0</td>\n",
       "      <td>8</td>\n",
       "      <td>4</td>\n",
       "      <td>4</td>\n",
       "      <td>213000</td>\n",
       "    </tr>\n",
       "    <tr>\n",
       "      <th>1771</th>\n",
       "      <td>1697</td>\n",
       "      <td>20</td>\n",
       "      <td>110.0</td>\n",
       "      <td>14226</td>\n",
       "      <td>8</td>\n",
       "      <td>5</td>\n",
       "      <td>375.0</td>\n",
       "      <td>4</td>\n",
       "      <td>3</td>\n",
       "      <td>4.0</td>\n",
       "      <td>...</td>\n",
       "      <td>0</td>\n",
       "      <td>0</td>\n",
       "      <td>0</td>\n",
       "      <td>0</td>\n",
       "      <td>NaN</td>\n",
       "      <td>0</td>\n",
       "      <td>7</td>\n",
       "      <td>1</td>\n",
       "      <td>1</td>\n",
       "      <td>395000</td>\n",
       "    </tr>\n",
       "    <tr>\n",
       "      <th>966</th>\n",
       "      <td>2294</td>\n",
       "      <td>80</td>\n",
       "      <td>NaN</td>\n",
       "      <td>15957</td>\n",
       "      <td>6</td>\n",
       "      <td>6</td>\n",
       "      <td>0.0</td>\n",
       "      <td>3</td>\n",
       "      <td>3</td>\n",
       "      <td>4.0</td>\n",
       "      <td>...</td>\n",
       "      <td>0</td>\n",
       "      <td>0</td>\n",
       "      <td>0</td>\n",
       "      <td>0</td>\n",
       "      <td>NaN</td>\n",
       "      <td>0</td>\n",
       "      <td>9</td>\n",
       "      <td>30</td>\n",
       "      <td>30</td>\n",
       "      <td>188000</td>\n",
       "    </tr>\n",
       "    <tr>\n",
       "      <th>1604</th>\n",
       "      <td>2449</td>\n",
       "      <td>60</td>\n",
       "      <td>93.0</td>\n",
       "      <td>12090</td>\n",
       "      <td>8</td>\n",
       "      <td>5</td>\n",
       "      <td>650.0</td>\n",
       "      <td>4</td>\n",
       "      <td>3</td>\n",
       "      <td>4.0</td>\n",
       "      <td>...</td>\n",
       "      <td>0</td>\n",
       "      <td>0</td>\n",
       "      <td>0</td>\n",
       "      <td>0</td>\n",
       "      <td>NaN</td>\n",
       "      <td>0</td>\n",
       "      <td>7</td>\n",
       "      <td>8</td>\n",
       "      <td>8</td>\n",
       "      <td>258000</td>\n",
       "    </tr>\n",
       "    <tr>\n",
       "      <th>1827</th>\n",
       "      <td>1859</td>\n",
       "      <td>80</td>\n",
       "      <td>80.0</td>\n",
       "      <td>9600</td>\n",
       "      <td>6</td>\n",
       "      <td>7</td>\n",
       "      <td>360.0</td>\n",
       "      <td>4</td>\n",
       "      <td>4</td>\n",
       "      <td>3.0</td>\n",
       "      <td>...</td>\n",
       "      <td>0</td>\n",
       "      <td>0</td>\n",
       "      <td>0</td>\n",
       "      <td>0</td>\n",
       "      <td>NaN</td>\n",
       "      <td>0</td>\n",
       "      <td>8</td>\n",
       "      <td>31</td>\n",
       "      <td>13</td>\n",
       "      <td>187000</td>\n",
       "    </tr>\n",
       "  </tbody>\n",
       "</table>\n",
       "<p>5 rows × 49 columns</p>\n",
       "</div>"
      ],
      "text/plain": [
       "        id  ms_subclass  lot_frontage  lot_area  overall_qual  overall_cond  \\\n",
       "1448   452          120          47.0      6904             6             5   \n",
       "1771  1697           20         110.0     14226             8             5   \n",
       "966   2294           80           NaN     15957             6             6   \n",
       "1604  2449           60          93.0     12090             8             5   \n",
       "1827  1859           80          80.0      9600             6             7   \n",
       "\n",
       "      mas_vnr_area  exter_qual  exter_cond  bsmt_qual  ...  enclosed_porch  \\\n",
       "1448         240.0           4           3        4.0  ...               0   \n",
       "1771         375.0           4           3        4.0  ...               0   \n",
       "966            0.0           3           3        4.0  ...               0   \n",
       "1604         650.0           4           3        4.0  ...               0   \n",
       "1827         360.0           4           4        3.0  ...               0   \n",
       "\n",
       "      3ssn_porch  screen_porch  pool_area  pool_qc  misc_val  mo_sold  \\\n",
       "1448           0             0          0      NaN         0        8   \n",
       "1771           0             0          0      NaN         0        7   \n",
       "966            0             0          0      NaN         0        9   \n",
       "1604           0             0          0      NaN         0        7   \n",
       "1827           0             0          0      NaN         0        8   \n",
       "\n",
       "      house_age_built  house_age_remodel  saleprice  \n",
       "1448                4                  4     213000  \n",
       "1771                1                  1     395000  \n",
       "966                30                 30     188000  \n",
       "1604                8                  8     258000  \n",
       "1827               31                 13     187000  \n",
       "\n",
       "[5 rows x 49 columns]"
      ]
     },
     "execution_count": 198,
     "metadata": {},
     "output_type": "execute_result"
    }
   ],
   "source": [
    "X_train_price.head()"
   ]
  },
  {
   "cell_type": "code",
   "execution_count": 199,
   "id": "b76ff490-afef-4b30-b4e0-1276dea61c9d",
   "metadata": {
    "tags": []
   },
   "outputs": [],
   "source": [
    "# Stash the id columns away\n",
    "train_id = X_train['id']\n",
    "val_id = X_val['id']\n",
    "test_id = test['id']"
   ]
  },
  {
   "cell_type": "code",
   "execution_count": 200,
   "id": "0ae83a66-193c-4a98-b2ee-8ced6dfeba9f",
   "metadata": {
    "tags": []
   },
   "outputs": [
    {
     "data": {
      "text/plain": [
       "misc_val             0.008064\n",
       "pool_area            0.014399\n",
       "bsmtfin_sf_2         0.018644\n",
       "bsmt_half_bath       0.033608\n",
       "exter_cond           0.034141\n",
       "low_qual_fin_sf      0.034890\n",
       "mo_sold              0.041451\n",
       "3ssn_porch           0.054876\n",
       "id                   0.066641\n",
       "ms_subclass          0.089512\n",
       "overall_cond         0.104320\n",
       "kitchen_abvgr        0.115706\n",
       "enclosed_porch       0.136301\n",
       "bedroom_abvgr        0.137312\n",
       "screen_porch         0.141524\n",
       "garage_cond          0.143116\n",
       "bsmt_unf_sf          0.171787\n",
       "bsmt_cond            0.174590\n",
       "garage_qual          0.216395\n",
       "2nd_flr_sf           0.254016\n",
       "central_air          0.267711\n",
       "half_bath            0.283829\n",
       "paved_drive          0.291192\n",
       "bsmt_full_bath       0.296780\n",
       "wood_deck_sf         0.303756\n",
       "fireplace_qu         0.316914\n",
       "lot_frontage         0.331902\n",
       "lot_area             0.335916\n",
       "open_porch_sf        0.337123\n",
       "pool_qc              0.380671\n",
       "bsmtfin_sf_1         0.424711\n",
       "heating_qc           0.467374\n",
       "fireplaces           0.470765\n",
       "totrms_abvgrd        0.524138\n",
       "mas_vnr_area         0.525342\n",
       "garage_yr_blt        0.526625\n",
       "full_bath            0.539412\n",
       "house_age_remodel    0.550143\n",
       "house_age_built      0.568733\n",
       "1st_flr_sf           0.606965\n",
       "total_bsmt_sf        0.616192\n",
       "garage_area          0.649681\n",
       "garage_cars          0.655951\n",
       "bsmt_qual            0.673811\n",
       "kitchen_qual         0.689440\n",
       "gr_liv_area          0.695648\n",
       "exter_qual           0.714423\n",
       "overall_qual         0.795353\n",
       "saleprice            1.000000\n",
       "Name: saleprice, dtype: float64"
      ]
     },
     "execution_count": 200,
     "metadata": {},
     "output_type": "execute_result"
    }
   ],
   "source": [
    "corr_X_train_num = X_train_price.corr()['saleprice'].abs()\n",
    "corr_X_train_num.sort_values()"
   ]
  },
  {
   "cell_type": "markdown",
   "id": "f380a0dc-8a28-4bdd-98a9-6b2047f5f767",
   "metadata": {},
   "source": [
    "Notice: id column is filtered out since the minimum requirement of correlation score is 0.45. So, we don't need to worry about it and we can add id column later on. "
   ]
  },
  {
   "cell_type": "code",
   "execution_count": 201,
   "id": "d9264a89-fb7b-4b02-a910-8d4b10c1a3f8",
   "metadata": {},
   "outputs": [],
   "source": [
    "df_X_train_corr = pd.DataFrame(corr_X_train_num.sort_values())\n",
    "df_X_train_corr = df_X_train_corr.reset_index()\n",
    "df_X_train_corr.columns = ['Column Type', 'Correlation Score with Price']"
   ]
  },
  {
   "cell_type": "code",
   "execution_count": 202,
   "id": "a0987f8f-5b4e-40f9-8ca5-e4d465f46fe3",
   "metadata": {
    "tags": []
   },
   "outputs": [
    {
     "data": {
      "image/png": "[encoded data removed]",
      "text/plain": [
       "<Figure size 1440x576 with 1 Axes>"
      ]
     },
     "metadata": {
      "needs_background": "light"
     },
     "output_type": "display_data"
    }
   ],
   "source": [
    "plt.figure(figsize = (20,8))\n",
    "sns.barplot(data = df_X_train_corr, x = 'Column Type', y = 'Correlation Score with Price')\n",
    "plt.axhline(y = 0.45, c = 'red')\n",
    "plt.xticks(rotation = 90);\n",
    "plt.title('The Correlation of Numeric Columns and Sale Price')\n",
    "plt.xlabel('Column Name')\n",
    "plt.ylabel('Correlation Score');\n",
    "plt.savefig('./images/Column_Selecton_Numeric.jpg');"
   ]
  },
  {
   "cell_type": "code",
   "execution_count": 203,
   "id": "bc3a7ad4-612c-414e-aff5-681f9fb983fe",
   "metadata": {},
   "outputs": [],
   "source": [
    "# Select columns that have more than 0.45 coorelation with saleprice. \n",
    "\n",
    "X_train_num = X_train_num[corr_X_train_num[(corr_X_train_num > 0.45) & (corr_X_train_num < 1.0)].index]\n",
    "\n",
    "X_val_num = X_val_num[corr_X_train_num[(corr_X_train_num > 0.45) & (corr_X_train_num < 1.0)].index]\n",
    "\n",
    "test_num = test_num[corr_X_train_num[(corr_X_train_num > 0.45) & (corr_X_train_num < 1.0)].index]"
   ]
  },
  {
   "cell_type": "code",
   "execution_count": 204,
   "id": "22a5bef4-800b-4fb9-8744-0155a6f74cfc",
   "metadata": {
    "tags": []
   },
   "outputs": [
    {
     "data": {
      "text/plain": [
       "overall_qual          0\n",
       "mas_vnr_area         19\n",
       "exter_qual            0\n",
       "bsmt_qual            41\n",
       "total_bsmt_sf         1\n",
       "heating_qc            0\n",
       "1st_flr_sf            0\n",
       "gr_liv_area           0\n",
       "full_bath             0\n",
       "kitchen_qual          0\n",
       "totrms_abvgrd         0\n",
       "fireplaces            0\n",
       "garage_yr_blt        93\n",
       "garage_cars           0\n",
       "garage_area           0\n",
       "house_age_built       0\n",
       "house_age_remodel     0\n",
       "dtype: int64"
      ]
     },
     "execution_count": 204,
     "metadata": {},
     "output_type": "execute_result"
    }
   ],
   "source": [
    "X_train_num.isnull().sum()"
   ]
  },
  {
   "cell_type": "code",
   "execution_count": 205,
   "id": "9a9fca99-c0f3-4129-a05c-c60e51714c33",
   "metadata": {
    "tags": []
   },
   "outputs": [
    {
     "data": {
      "text/plain": [
       "overall_qual          0\n",
       "mas_vnr_area          3\n",
       "exter_qual            0\n",
       "bsmt_qual            14\n",
       "total_bsmt_sf         0\n",
       "heating_qc            0\n",
       "1st_flr_sf            0\n",
       "gr_liv_area           0\n",
       "full_bath             0\n",
       "kitchen_qual          0\n",
       "totrms_abvgrd         0\n",
       "fireplaces            0\n",
       "garage_yr_blt        21\n",
       "garage_cars           1\n",
       "garage_area           1\n",
       "house_age_built       0\n",
       "house_age_remodel     0\n",
       "dtype: int64"
      ]
     },
     "execution_count": 205,
     "metadata": {},
     "output_type": "execute_result"
    }
   ],
   "source": [
    "X_val_num.isnull().sum()"
   ]
  },
  {
   "cell_type": "code",
   "execution_count": 206,
   "id": "107d0dcd-e1bc-431b-ac65-e772d991f90d",
   "metadata": {},
   "outputs": [
    {
     "data": {
      "text/plain": [
       "overall_qual          0\n",
       "mas_vnr_area          1\n",
       "exter_qual            0\n",
       "bsmt_qual            25\n",
       "total_bsmt_sf         0\n",
       "heating_qc            0\n",
       "1st_flr_sf            0\n",
       "gr_liv_area           0\n",
       "full_bath             0\n",
       "kitchen_qual          0\n",
       "totrms_abvgrd         0\n",
       "fireplaces            0\n",
       "garage_yr_blt        45\n",
       "garage_cars           0\n",
       "garage_area           0\n",
       "house_age_built       0\n",
       "house_age_remodel     0\n",
       "dtype: int64"
      ]
     },
     "execution_count": 206,
     "metadata": {},
     "output_type": "execute_result"
    }
   ],
   "source": [
    "test_num.isnull().sum()"
   ]
  },
  {
   "cell_type": "code",
   "execution_count": 207,
   "id": "32970389-630e-4434-a494-3fa4053adbfc",
   "metadata": {
    "tags": []
   },
   "outputs": [],
   "source": [
    "# Delete columns have too many missing values, filter rule: more than 5% of the missing values\n",
    "X_train_num = X_train_num.drop(columns = ['garage_yr_blt'])\n",
    "\n",
    "X_val_num = X_val_num.drop(columns = ['garage_yr_blt'])\n",
    "\n",
    "test_num = test_num.drop(columns = ['garage_yr_blt'])"
   ]
  },
  {
   "cell_type": "code",
   "execution_count": 208,
   "id": "29ae8e3f-4886-4fa0-aaac-d867b2a7b99d",
   "metadata": {},
   "outputs": [],
   "source": [
    "# Add id column back to the dataset\n",
    "X_train_num = pd.concat([train_id, X_train_num], axis = 1)\n",
    "X_val_num = pd.concat([val_id, X_val_num], axis = 1)\n",
    "test_num = pd.concat([test_id, test_num], axis = 1)"
   ]
  },
  {
   "cell_type": "code",
   "execution_count": 209,
   "id": "4d61aaec-2b5d-4819-8d21-3c9315837985",
   "metadata": {
    "tags": []
   },
   "outputs": [
    {
     "data": {
      "text/plain": [
       "((1640, 17), (411, 17), (878, 17))"
      ]
     },
     "execution_count": 209,
     "metadata": {},
     "output_type": "execute_result"
    }
   ],
   "source": [
    "X_train_num.shape, X_val_num.shape, test_num.shape"
   ]
  },
  {
   "cell_type": "markdown",
   "id": "32e36cae-9b65-4c1d-94e6-57c5d2f1c95e",
   "metadata": {},
   "source": [
    "#### 2.3.2. Deal with Object Columns"
   ]
  },
  {
   "cell_type": "code",
   "execution_count": 210,
   "id": "a76f0a8f-118a-47a4-8497-75aa36fca401",
   "metadata": {},
   "outputs": [
    {
     "data": {
      "text/plain": [
       "mas_vnr_type      19\n",
       "bsmt_exposure      4\n",
       "bsmtfin_type_2     2\n",
       "bsmtfin_type_1     1\n",
       "ms_zoning          0\n",
       "street             0\n",
       "misc_feature       0\n",
       "fence              0\n",
       "garage_finish      0\n",
       "garage_type        0\n",
       "functional         0\n",
       "electrical         0\n",
       "heating            0\n",
       "foundation         0\n",
       "exterior_2nd       0\n",
       "exterior_1st       0\n",
       "roof_matl          0\n",
       "roof_style         0\n",
       "house_style        0\n",
       "bldg_type          0\n",
       "condition_2        0\n",
       "condition_1        0\n",
       "neighborhood       0\n",
       "land_slope         0\n",
       "lot_config         0\n",
       "utilities          0\n",
       "land_contour       0\n",
       "lot_shape          0\n",
       "alley              0\n",
       "sale_type          0\n",
       "dtype: int64"
      ]
     },
     "execution_count": 210,
     "metadata": {},
     "output_type": "execute_result"
    }
   ],
   "source": [
    "X_train_obj.isna().sum().sort_values(ascending = False)"
   ]
  },
  {
   "cell_type": "code",
   "execution_count": 211,
   "id": "16f0ec6e-5c49-4bed-9dff-161a0cd5c9e6",
   "metadata": {
    "tags": []
   },
   "outputs": [
    {
     "data": {
      "image/png": "[encoded data removed]",
      "text/plain": [
       "<Figure size 1080x576 with 1 Axes>"
      ]
     },
     "metadata": {
      "needs_background": "light"
     },
     "output_type": "display_data"
    }
   ],
   "source": [
    "types = []\n",
    "for col in (X_train_obj.columns):\n",
    "    types.append(len(X_train_obj[col].value_counts()))\n",
    "types = pd.DataFrame(types)\n",
    "X_train_obj_col = pd.DataFrame(X_train_obj.columns)\n",
    "Col_cate = pd.concat([X_train_obj_col, types], axis = 1)\n",
    "Col_cate.columns = ['Column Name', 'Number of Categories']\n",
    "\n",
    "plt.figure(figsize = (15,8))\n",
    "sns.barplot(data = Col_cate, x = 'Column Name', y = 'Number of Categories')\n",
    "plt.axhline(y = 6, c = 'red')\n",
    "plt.xticks(rotation = 90);\n",
    "plt.title('The Number of Categories in Each Column')\n",
    "plt.xlabel('Column Name')\n",
    "plt.ylabel('The Number of Categories');\n",
    "plt.savefig('./images/Column_Selecton_Object.jpg');"
   ]
  },
  {
   "cell_type": "code",
   "execution_count": 212,
   "id": "f5d5547a-90f2-4520-ab5f-2292cdc97e7f",
   "metadata": {},
   "outputs": [],
   "source": [
    "X_train_obj_col = pd.DataFrame(X_train_obj.columns)"
   ]
  },
  {
   "cell_type": "code",
   "execution_count": 213,
   "id": "48ca8296-de74-4e2a-9cc7-9580f326e6b0",
   "metadata": {
    "tags": []
   },
   "outputs": [
    {
     "name": "stderr",
     "output_type": "stream",
     "text": [
      "/opt/anaconda3/lib/python3.9/site-packages/pandas/core/frame.py:4906: SettingWithCopyWarning: \n",
      "A value is trying to be set on a copy of a slice from a DataFrame\n",
      "\n",
      "See the caveats in the documentation: https://pandas.pydata.org/pandas-docs/stable/user_guide/indexing.html#returning-a-view-versus-a-copy\n",
      "  return super().drop(\n"
     ]
    },
    {
     "data": {
      "text/plain": [
       "(1640, 19)"
      ]
     },
     "execution_count": 213,
     "metadata": {},
     "output_type": "execute_result"
    }
   ],
   "source": [
    "for col in (X_train_obj.columns):\n",
    "    if len(X_train_obj[col].value_counts()) > 6:\n",
    "        X_train_obj.drop(columns = col, inplace = True)\n",
    "X_train_obj.shape"
   ]
  },
  {
   "cell_type": "code",
   "execution_count": 214,
   "id": "26df69e1-7a7d-4fe8-a944-e2193b97a12f",
   "metadata": {},
   "outputs": [
    {
     "data": {
      "text/html": [
       "<div>\n",
       "<style scoped>\n",
       "    .dataframe tbody tr th:only-of-type {\n",
       "        vertical-align: middle;\n",
       "    }\n",
       "\n",
       "    .dataframe tbody tr th {\n",
       "        vertical-align: top;\n",
       "    }\n",
       "\n",
       "    .dataframe thead th {\n",
       "        text-align: right;\n",
       "    }\n",
       "</style>\n",
       "<table border=\"1\" class=\"dataframe\">\n",
       "  <thead>\n",
       "    <tr style=\"text-align: right;\">\n",
       "      <th></th>\n",
       "      <th>ms_zoning</th>\n",
       "      <th>street</th>\n",
       "      <th>alley</th>\n",
       "      <th>lot_shape</th>\n",
       "      <th>land_contour</th>\n",
       "      <th>utilities</th>\n",
       "      <th>lot_config</th>\n",
       "      <th>land_slope</th>\n",
       "      <th>bldg_type</th>\n",
       "      <th>roof_style</th>\n",
       "      <th>roof_matl</th>\n",
       "      <th>mas_vnr_type</th>\n",
       "      <th>foundation</th>\n",
       "      <th>bsmt_exposure</th>\n",
       "      <th>heating</th>\n",
       "      <th>electrical</th>\n",
       "      <th>garage_finish</th>\n",
       "      <th>fence</th>\n",
       "      <th>misc_feature</th>\n",
       "      <th>neighborhood</th>\n",
       "    </tr>\n",
       "  </thead>\n",
       "  <tbody>\n",
       "    <tr>\n",
       "      <th>1448</th>\n",
       "      <td>RL</td>\n",
       "      <td>Pave</td>\n",
       "      <td>NA</td>\n",
       "      <td>IR1</td>\n",
       "      <td>Lvl</td>\n",
       "      <td>AllPub</td>\n",
       "      <td>Inside</td>\n",
       "      <td>Gtl</td>\n",
       "      <td>TwnhsE</td>\n",
       "      <td>Gable</td>\n",
       "      <td>CompShg</td>\n",
       "      <td>Stone</td>\n",
       "      <td>PConc</td>\n",
       "      <td>Av</td>\n",
       "      <td>GasA</td>\n",
       "      <td>SBrkr</td>\n",
       "      <td>RFn</td>\n",
       "      <td>NA</td>\n",
       "      <td>NA</td>\n",
       "      <td>NridgHt</td>\n",
       "    </tr>\n",
       "    <tr>\n",
       "      <th>1771</th>\n",
       "      <td>RL</td>\n",
       "      <td>Pave</td>\n",
       "      <td>NA</td>\n",
       "      <td>Reg</td>\n",
       "      <td>Lvl</td>\n",
       "      <td>AllPub</td>\n",
       "      <td>Corner</td>\n",
       "      <td>Gtl</td>\n",
       "      <td>1Fam</td>\n",
       "      <td>Hip</td>\n",
       "      <td>CompShg</td>\n",
       "      <td>BrkFace</td>\n",
       "      <td>PConc</td>\n",
       "      <td>Av</td>\n",
       "      <td>GasA</td>\n",
       "      <td>SBrkr</td>\n",
       "      <td>Fin</td>\n",
       "      <td>NA</td>\n",
       "      <td>NA</td>\n",
       "      <td>NridgHt</td>\n",
       "    </tr>\n",
       "    <tr>\n",
       "      <th>966</th>\n",
       "      <td>RL</td>\n",
       "      <td>Pave</td>\n",
       "      <td>NA</td>\n",
       "      <td>IR1</td>\n",
       "      <td>Low</td>\n",
       "      <td>AllPub</td>\n",
       "      <td>Corner</td>\n",
       "      <td>Mod</td>\n",
       "      <td>1Fam</td>\n",
       "      <td>Gable</td>\n",
       "      <td>CompShg</td>\n",
       "      <td>None</td>\n",
       "      <td>PConc</td>\n",
       "      <td>Gd</td>\n",
       "      <td>GasA</td>\n",
       "      <td>SBrkr</td>\n",
       "      <td>Fin</td>\n",
       "      <td>MnPrv</td>\n",
       "      <td>NA</td>\n",
       "      <td>Mitchel</td>\n",
       "    </tr>\n",
       "    <tr>\n",
       "      <th>1604</th>\n",
       "      <td>RL</td>\n",
       "      <td>Pave</td>\n",
       "      <td>NA</td>\n",
       "      <td>Reg</td>\n",
       "      <td>Lvl</td>\n",
       "      <td>AllPub</td>\n",
       "      <td>Corner</td>\n",
       "      <td>Gtl</td>\n",
       "      <td>1Fam</td>\n",
       "      <td>Hip</td>\n",
       "      <td>CompShg</td>\n",
       "      <td>BrkFace</td>\n",
       "      <td>PConc</td>\n",
       "      <td>No</td>\n",
       "      <td>GasA</td>\n",
       "      <td>SBrkr</td>\n",
       "      <td>Fin</td>\n",
       "      <td>NA</td>\n",
       "      <td>NA</td>\n",
       "      <td>NoRidge</td>\n",
       "    </tr>\n",
       "    <tr>\n",
       "      <th>1827</th>\n",
       "      <td>RL</td>\n",
       "      <td>Pave</td>\n",
       "      <td>NA</td>\n",
       "      <td>Reg</td>\n",
       "      <td>Lvl</td>\n",
       "      <td>AllPub</td>\n",
       "      <td>FR2</td>\n",
       "      <td>Gtl</td>\n",
       "      <td>1Fam</td>\n",
       "      <td>Hip</td>\n",
       "      <td>CompShg</td>\n",
       "      <td>BrkFace</td>\n",
       "      <td>CBlock</td>\n",
       "      <td>No</td>\n",
       "      <td>GasA</td>\n",
       "      <td>SBrkr</td>\n",
       "      <td>RFn</td>\n",
       "      <td>NA</td>\n",
       "      <td>NA</td>\n",
       "      <td>Veenker</td>\n",
       "    </tr>\n",
       "    <tr>\n",
       "      <th>...</th>\n",
       "      <td>...</td>\n",
       "      <td>...</td>\n",
       "      <td>...</td>\n",
       "      <td>...</td>\n",
       "      <td>...</td>\n",
       "      <td>...</td>\n",
       "      <td>...</td>\n",
       "      <td>...</td>\n",
       "      <td>...</td>\n",
       "      <td>...</td>\n",
       "      <td>...</td>\n",
       "      <td>...</td>\n",
       "      <td>...</td>\n",
       "      <td>...</td>\n",
       "      <td>...</td>\n",
       "      <td>...</td>\n",
       "      <td>...</td>\n",
       "      <td>...</td>\n",
       "      <td>...</td>\n",
       "      <td>...</td>\n",
       "    </tr>\n",
       "    <tr>\n",
       "      <th>1724</th>\n",
       "      <td>RL</td>\n",
       "      <td>Pave</td>\n",
       "      <td>NA</td>\n",
       "      <td>IR1</td>\n",
       "      <td>Lvl</td>\n",
       "      <td>AllPub</td>\n",
       "      <td>Inside</td>\n",
       "      <td>Gtl</td>\n",
       "      <td>1Fam</td>\n",
       "      <td>Gable</td>\n",
       "      <td>CompShg</td>\n",
       "      <td>Stone</td>\n",
       "      <td>PConc</td>\n",
       "      <td>Gd</td>\n",
       "      <td>GasA</td>\n",
       "      <td>SBrkr</td>\n",
       "      <td>Fin</td>\n",
       "      <td>NA</td>\n",
       "      <td>NA</td>\n",
       "      <td>NridgHt</td>\n",
       "    </tr>\n",
       "    <tr>\n",
       "      <th>1095</th>\n",
       "      <td>RL</td>\n",
       "      <td>Pave</td>\n",
       "      <td>NA</td>\n",
       "      <td>Reg</td>\n",
       "      <td>Lvl</td>\n",
       "      <td>AllPub</td>\n",
       "      <td>Inside</td>\n",
       "      <td>Gtl</td>\n",
       "      <td>1Fam</td>\n",
       "      <td>Gable</td>\n",
       "      <td>CompShg</td>\n",
       "      <td>BrkFace</td>\n",
       "      <td>CBlock</td>\n",
       "      <td>No</td>\n",
       "      <td>GasA</td>\n",
       "      <td>FuseA</td>\n",
       "      <td>RFn</td>\n",
       "      <td>NA</td>\n",
       "      <td>NA</td>\n",
       "      <td>NAmes</td>\n",
       "    </tr>\n",
       "    <tr>\n",
       "      <th>1130</th>\n",
       "      <td>RL</td>\n",
       "      <td>Pave</td>\n",
       "      <td>NA</td>\n",
       "      <td>Reg</td>\n",
       "      <td>Lvl</td>\n",
       "      <td>AllPub</td>\n",
       "      <td>Inside</td>\n",
       "      <td>Gtl</td>\n",
       "      <td>1Fam</td>\n",
       "      <td>Hip</td>\n",
       "      <td>CompShg</td>\n",
       "      <td>BrkFace</td>\n",
       "      <td>CBlock</td>\n",
       "      <td>No</td>\n",
       "      <td>GasA</td>\n",
       "      <td>SBrkr</td>\n",
       "      <td>RFn</td>\n",
       "      <td>GdPrv</td>\n",
       "      <td>NA</td>\n",
       "      <td>NWAmes</td>\n",
       "    </tr>\n",
       "    <tr>\n",
       "      <th>1294</th>\n",
       "      <td>RM</td>\n",
       "      <td>Pave</td>\n",
       "      <td>NA</td>\n",
       "      <td>Reg</td>\n",
       "      <td>Lvl</td>\n",
       "      <td>AllPub</td>\n",
       "      <td>Inside</td>\n",
       "      <td>Gtl</td>\n",
       "      <td>Twnhs</td>\n",
       "      <td>Gable</td>\n",
       "      <td>CompShg</td>\n",
       "      <td>BrkFace</td>\n",
       "      <td>CBlock</td>\n",
       "      <td>No</td>\n",
       "      <td>GasA</td>\n",
       "      <td>SBrkr</td>\n",
       "      <td>Unf</td>\n",
       "      <td>NA</td>\n",
       "      <td>NA</td>\n",
       "      <td>BrDale</td>\n",
       "    </tr>\n",
       "    <tr>\n",
       "      <th>860</th>\n",
       "      <td>RL</td>\n",
       "      <td>Pave</td>\n",
       "      <td>NA</td>\n",
       "      <td>Reg</td>\n",
       "      <td>Lvl</td>\n",
       "      <td>AllPub</td>\n",
       "      <td>Inside</td>\n",
       "      <td>Gtl</td>\n",
       "      <td>1Fam</td>\n",
       "      <td>Gable</td>\n",
       "      <td>CompShg</td>\n",
       "      <td>BrkFace</td>\n",
       "      <td>PConc</td>\n",
       "      <td>Av</td>\n",
       "      <td>GasA</td>\n",
       "      <td>SBrkr</td>\n",
       "      <td>RFn</td>\n",
       "      <td>NA</td>\n",
       "      <td>NA</td>\n",
       "      <td>CollgCr</td>\n",
       "    </tr>\n",
       "  </tbody>\n",
       "</table>\n",
       "<p>1640 rows × 20 columns</p>\n",
       "</div>"
      ],
      "text/plain": [
       "     ms_zoning street alley lot_shape land_contour utilities lot_config  \\\n",
       "1448        RL   Pave    NA       IR1          Lvl    AllPub     Inside   \n",
       "1771        RL   Pave    NA       Reg          Lvl    AllPub     Corner   \n",
       "966         RL   Pave    NA       IR1          Low    AllPub     Corner   \n",
       "1604        RL   Pave    NA       Reg          Lvl    AllPub     Corner   \n",
       "1827        RL   Pave    NA       Reg          Lvl    AllPub        FR2   \n",
       "...        ...    ...   ...       ...          ...       ...        ...   \n",
       "1724        RL   Pave    NA       IR1          Lvl    AllPub     Inside   \n",
       "1095        RL   Pave    NA       Reg          Lvl    AllPub     Inside   \n",
       "1130        RL   Pave    NA       Reg          Lvl    AllPub     Inside   \n",
       "1294        RM   Pave    NA       Reg          Lvl    AllPub     Inside   \n",
       "860         RL   Pave    NA       Reg          Lvl    AllPub     Inside   \n",
       "\n",
       "     land_slope bldg_type roof_style roof_matl mas_vnr_type foundation  \\\n",
       "1448        Gtl    TwnhsE      Gable   CompShg        Stone      PConc   \n",
       "1771        Gtl      1Fam        Hip   CompShg      BrkFace      PConc   \n",
       "966         Mod      1Fam      Gable   CompShg         None      PConc   \n",
       "1604        Gtl      1Fam        Hip   CompShg      BrkFace      PConc   \n",
       "1827        Gtl      1Fam        Hip   CompShg      BrkFace     CBlock   \n",
       "...         ...       ...        ...       ...          ...        ...   \n",
       "1724        Gtl      1Fam      Gable   CompShg        Stone      PConc   \n",
       "1095        Gtl      1Fam      Gable   CompShg      BrkFace     CBlock   \n",
       "1130        Gtl      1Fam        Hip   CompShg      BrkFace     CBlock   \n",
       "1294        Gtl     Twnhs      Gable   CompShg      BrkFace     CBlock   \n",
       "860         Gtl      1Fam      Gable   CompShg      BrkFace      PConc   \n",
       "\n",
       "     bsmt_exposure heating electrical garage_finish  fence misc_feature  \\\n",
       "1448            Av    GasA      SBrkr           RFn     NA           NA   \n",
       "1771            Av    GasA      SBrkr           Fin     NA           NA   \n",
       "966             Gd    GasA      SBrkr           Fin  MnPrv           NA   \n",
       "1604            No    GasA      SBrkr           Fin     NA           NA   \n",
       "1827            No    GasA      SBrkr           RFn     NA           NA   \n",
       "...            ...     ...        ...           ...    ...          ...   \n",
       "1724            Gd    GasA      SBrkr           Fin     NA           NA   \n",
       "1095            No    GasA      FuseA           RFn     NA           NA   \n",
       "1130            No    GasA      SBrkr           RFn  GdPrv           NA   \n",
       "1294            No    GasA      SBrkr           Unf     NA           NA   \n",
       "860             Av    GasA      SBrkr           RFn     NA           NA   \n",
       "\n",
       "     neighborhood  \n",
       "1448      NridgHt  \n",
       "1771      NridgHt  \n",
       "966       Mitchel  \n",
       "1604      NoRidge  \n",
       "1827      Veenker  \n",
       "...           ...  \n",
       "1724      NridgHt  \n",
       "1095        NAmes  \n",
       "1130       NWAmes  \n",
       "1294       BrDale  \n",
       "860       CollgCr  \n",
       "\n",
       "[1640 rows x 20 columns]"
      ]
     },
     "execution_count": 214,
     "metadata": {},
     "output_type": "execute_result"
    }
   ],
   "source": [
    "X_train_obj = pd.concat([X_train_obj, X_train['neighborhood']], axis = 1) \n",
    "X_train_obj"
   ]
  },
  {
   "cell_type": "code",
   "execution_count": 215,
   "id": "1bfd000f-3789-4480-b9ee-650a4c16ab14",
   "metadata": {
    "tags": []
   },
   "outputs": [
    {
     "data": {
      "text/plain": [
       "mas_vnr_type     19\n",
       "bsmt_exposure     4\n",
       "ms_zoning         0\n",
       "street            0\n",
       "misc_feature      0\n",
       "fence             0\n",
       "garage_finish     0\n",
       "electrical        0\n",
       "heating           0\n",
       "foundation        0\n",
       "roof_matl         0\n",
       "roof_style        0\n",
       "bldg_type         0\n",
       "land_slope        0\n",
       "lot_config        0\n",
       "utilities         0\n",
       "land_contour      0\n",
       "lot_shape         0\n",
       "alley             0\n",
       "neighborhood      0\n",
       "dtype: int64"
      ]
     },
     "execution_count": 215,
     "metadata": {},
     "output_type": "execute_result"
    }
   ],
   "source": [
    "X_train_obj.isna().sum().sort_values(ascending = False)"
   ]
  },
  {
   "cell_type": "code",
   "execution_count": 216,
   "id": "370be5ed-483b-4718-b0cb-118cd24fdc02",
   "metadata": {
    "tags": []
   },
   "outputs": [],
   "source": [
    "# Delete columns have too many missing values, filter rule: more than 5% of the missing values\n",
    "# 5% of 160  = 82. So no rows should be deleted. "
   ]
  },
  {
   "cell_type": "code",
   "execution_count": 217,
   "id": "cd24ffac-b1d9-4639-bdc9-234bc4fd03ab",
   "metadata": {
    "tags": []
   },
   "outputs": [
    {
     "data": {
      "text/plain": [
       "mas_vnr_type     3\n",
       "garage_finish    1\n",
       "ms_zoning        0\n",
       "street           0\n",
       "misc_feature     0\n",
       "fence            0\n",
       "electrical       0\n",
       "heating          0\n",
       "bsmt_exposure    0\n",
       "foundation       0\n",
       "roof_matl        0\n",
       "roof_style       0\n",
       "bldg_type        0\n",
       "land_slope       0\n",
       "lot_config       0\n",
       "utilities        0\n",
       "land_contour     0\n",
       "lot_shape        0\n",
       "alley            0\n",
       "neighborhood     0\n",
       "dtype: int64"
      ]
     },
     "execution_count": 217,
     "metadata": {},
     "output_type": "execute_result"
    }
   ],
   "source": [
    "col_list = []\n",
    "for col in X_train_obj.columns:\n",
    "    col_list.append(col) \n",
    "X_val_obj = X_val_obj.loc[:, col_list]\n",
    "\n",
    "X_val_obj.isna().sum().sort_values(ascending = False)"
   ]
  },
  {
   "cell_type": "code",
   "execution_count": 218,
   "id": "a8ced03a-edd7-429b-96aa-37341ac467bd",
   "metadata": {},
   "outputs": [
    {
     "data": {
      "text/plain": [
       "garage_finish    1\n",
       "electrical       1\n",
       "mas_vnr_type     1\n",
       "ms_zoning        0\n",
       "street           0\n",
       "misc_feature     0\n",
       "fence            0\n",
       "heating          0\n",
       "bsmt_exposure    0\n",
       "foundation       0\n",
       "roof_matl        0\n",
       "roof_style       0\n",
       "bldg_type        0\n",
       "land_slope       0\n",
       "lot_config       0\n",
       "utilities        0\n",
       "land_contour     0\n",
       "lot_shape        0\n",
       "alley            0\n",
       "neighborhood     0\n",
       "dtype: int64"
      ]
     },
     "execution_count": 218,
     "metadata": {},
     "output_type": "execute_result"
    }
   ],
   "source": [
    "col_list = []\n",
    "for col in X_train_obj.columns:\n",
    "    col_list.append(col) \n",
    "test_obj = test_obj.loc[:, col_list]\n",
    "\n",
    "test_obj.isna().sum().sort_values(ascending = False)"
   ]
  },
  {
   "cell_type": "code",
   "execution_count": 219,
   "id": "53160c95-be1b-4725-ac0e-f2017a1aa5f4",
   "metadata": {},
   "outputs": [
    {
     "data": {
      "text/plain": [
       "((1640, 20), (411, 20), (878, 20))"
      ]
     },
     "execution_count": 219,
     "metadata": {},
     "output_type": "execute_result"
    }
   ],
   "source": [
    "X_train_obj.shape, X_val_obj.shape, test_obj.shape"
   ]
  },
  {
   "cell_type": "markdown",
   "id": "fe712863-5b80-4c00-bce9-5c8316f40909",
   "metadata": {},
   "source": [
    "#### 2.3.3. Combine Numeric and Object Dataset"
   ]
  },
  {
   "cell_type": "code",
   "execution_count": 220,
   "id": "80164868-aab8-4cf6-b1c6-2906d886264e",
   "metadata": {},
   "outputs": [
    {
     "data": {
      "text/html": [
       "<div>\n",
       "<style scoped>\n",
       "    .dataframe tbody tr th:only-of-type {\n",
       "        vertical-align: middle;\n",
       "    }\n",
       "\n",
       "    .dataframe tbody tr th {\n",
       "        vertical-align: top;\n",
       "    }\n",
       "\n",
       "    .dataframe thead th {\n",
       "        text-align: right;\n",
       "    }\n",
       "</style>\n",
       "<table border=\"1\" class=\"dataframe\">\n",
       "  <thead>\n",
       "    <tr style=\"text-align: right;\">\n",
       "      <th></th>\n",
       "      <th>id</th>\n",
       "      <th>overall_qual</th>\n",
       "      <th>mas_vnr_area</th>\n",
       "      <th>exter_qual</th>\n",
       "      <th>bsmt_qual</th>\n",
       "      <th>total_bsmt_sf</th>\n",
       "      <th>heating_qc</th>\n",
       "      <th>1st_flr_sf</th>\n",
       "      <th>gr_liv_area</th>\n",
       "      <th>full_bath</th>\n",
       "      <th>...</th>\n",
       "      <th>roof_matl</th>\n",
       "      <th>mas_vnr_type</th>\n",
       "      <th>foundation</th>\n",
       "      <th>bsmt_exposure</th>\n",
       "      <th>heating</th>\n",
       "      <th>electrical</th>\n",
       "      <th>garage_finish</th>\n",
       "      <th>fence</th>\n",
       "      <th>misc_feature</th>\n",
       "      <th>neighborhood</th>\n",
       "    </tr>\n",
       "  </thead>\n",
       "  <tbody>\n",
       "    <tr>\n",
       "      <th>1448</th>\n",
       "      <td>452</td>\n",
       "      <td>6</td>\n",
       "      <td>240.0</td>\n",
       "      <td>4</td>\n",
       "      <td>4.0</td>\n",
       "      <td>1358.0</td>\n",
       "      <td>5</td>\n",
       "      <td>1358</td>\n",
       "      <td>1358</td>\n",
       "      <td>2</td>\n",
       "      <td>...</td>\n",
       "      <td>CompShg</td>\n",
       "      <td>Stone</td>\n",
       "      <td>PConc</td>\n",
       "      <td>Av</td>\n",
       "      <td>GasA</td>\n",
       "      <td>SBrkr</td>\n",
       "      <td>RFn</td>\n",
       "      <td>NA</td>\n",
       "      <td>NA</td>\n",
       "      <td>NridgHt</td>\n",
       "    </tr>\n",
       "    <tr>\n",
       "      <th>1771</th>\n",
       "      <td>1697</td>\n",
       "      <td>8</td>\n",
       "      <td>375.0</td>\n",
       "      <td>4</td>\n",
       "      <td>4.0</td>\n",
       "      <td>1935.0</td>\n",
       "      <td>4</td>\n",
       "      <td>1973</td>\n",
       "      <td>1973</td>\n",
       "      <td>2</td>\n",
       "      <td>...</td>\n",
       "      <td>CompShg</td>\n",
       "      <td>BrkFace</td>\n",
       "      <td>PConc</td>\n",
       "      <td>Av</td>\n",
       "      <td>GasA</td>\n",
       "      <td>SBrkr</td>\n",
       "      <td>Fin</td>\n",
       "      <td>NA</td>\n",
       "      <td>NA</td>\n",
       "      <td>NridgHt</td>\n",
       "    </tr>\n",
       "    <tr>\n",
       "      <th>966</th>\n",
       "      <td>2294</td>\n",
       "      <td>6</td>\n",
       "      <td>0.0</td>\n",
       "      <td>3</td>\n",
       "      <td>4.0</td>\n",
       "      <td>1244.0</td>\n",
       "      <td>3</td>\n",
       "      <td>1356</td>\n",
       "      <td>1356</td>\n",
       "      <td>2</td>\n",
       "      <td>...</td>\n",
       "      <td>CompShg</td>\n",
       "      <td>None</td>\n",
       "      <td>PConc</td>\n",
       "      <td>Gd</td>\n",
       "      <td>GasA</td>\n",
       "      <td>SBrkr</td>\n",
       "      <td>Fin</td>\n",
       "      <td>MnPrv</td>\n",
       "      <td>NA</td>\n",
       "      <td>Mitchel</td>\n",
       "    </tr>\n",
       "    <tr>\n",
       "      <th>1604</th>\n",
       "      <td>2449</td>\n",
       "      <td>8</td>\n",
       "      <td>650.0</td>\n",
       "      <td>4</td>\n",
       "      <td>4.0</td>\n",
       "      <td>1141.0</td>\n",
       "      <td>4</td>\n",
       "      <td>1165</td>\n",
       "      <td>2263</td>\n",
       "      <td>2</td>\n",
       "      <td>...</td>\n",
       "      <td>CompShg</td>\n",
       "      <td>BrkFace</td>\n",
       "      <td>PConc</td>\n",
       "      <td>No</td>\n",
       "      <td>GasA</td>\n",
       "      <td>SBrkr</td>\n",
       "      <td>Fin</td>\n",
       "      <td>NA</td>\n",
       "      <td>NA</td>\n",
       "      <td>NoRidge</td>\n",
       "    </tr>\n",
       "    <tr>\n",
       "      <th>1827</th>\n",
       "      <td>1859</td>\n",
       "      <td>6</td>\n",
       "      <td>360.0</td>\n",
       "      <td>4</td>\n",
       "      <td>3.0</td>\n",
       "      <td>528.0</td>\n",
       "      <td>5</td>\n",
       "      <td>1094</td>\n",
       "      <td>1855</td>\n",
       "      <td>2</td>\n",
       "      <td>...</td>\n",
       "      <td>CompShg</td>\n",
       "      <td>BrkFace</td>\n",
       "      <td>CBlock</td>\n",
       "      <td>No</td>\n",
       "      <td>GasA</td>\n",
       "      <td>SBrkr</td>\n",
       "      <td>RFn</td>\n",
       "      <td>NA</td>\n",
       "      <td>NA</td>\n",
       "      <td>Veenker</td>\n",
       "    </tr>\n",
       "  </tbody>\n",
       "</table>\n",
       "<p>5 rows × 37 columns</p>\n",
       "</div>"
      ],
      "text/plain": [
       "        id  overall_qual  mas_vnr_area  exter_qual  bsmt_qual  total_bsmt_sf  \\\n",
       "1448   452             6         240.0           4        4.0         1358.0   \n",
       "1771  1697             8         375.0           4        4.0         1935.0   \n",
       "966   2294             6           0.0           3        4.0         1244.0   \n",
       "1604  2449             8         650.0           4        4.0         1141.0   \n",
       "1827  1859             6         360.0           4        3.0          528.0   \n",
       "\n",
       "      heating_qc  1st_flr_sf  gr_liv_area  full_bath  ...  roof_matl  \\\n",
       "1448           5        1358         1358          2  ...    CompShg   \n",
       "1771           4        1973         1973          2  ...    CompShg   \n",
       "966            3        1356         1356          2  ...    CompShg   \n",
       "1604           4        1165         2263          2  ...    CompShg   \n",
       "1827           5        1094         1855          2  ...    CompShg   \n",
       "\n",
       "      mas_vnr_type  foundation  bsmt_exposure  heating  electrical  \\\n",
       "1448         Stone       PConc             Av     GasA       SBrkr   \n",
       "1771       BrkFace       PConc             Av     GasA       SBrkr   \n",
       "966           None       PConc             Gd     GasA       SBrkr   \n",
       "1604       BrkFace       PConc             No     GasA       SBrkr   \n",
       "1827       BrkFace      CBlock             No     GasA       SBrkr   \n",
       "\n",
       "      garage_finish  fence misc_feature neighborhood  \n",
       "1448            RFn     NA           NA      NridgHt  \n",
       "1771            Fin     NA           NA      NridgHt  \n",
       "966             Fin  MnPrv           NA      Mitchel  \n",
       "1604            Fin     NA           NA      NoRidge  \n",
       "1827            RFn     NA           NA      Veenker  \n",
       "\n",
       "[5 rows x 37 columns]"
      ]
     },
     "execution_count": 220,
     "metadata": {},
     "output_type": "execute_result"
    }
   ],
   "source": [
    "X_train = pd.concat([X_train_num, X_train_obj], axis = 1)\n",
    "X_train.head()"
   ]
  },
  {
   "cell_type": "code",
   "execution_count": 221,
   "id": "d713dbbc-d81b-4b92-a5d0-791879703665",
   "metadata": {},
   "outputs": [
    {
     "data": {
      "text/html": [
       "<div>\n",
       "<style scoped>\n",
       "    .dataframe tbody tr th:only-of-type {\n",
       "        vertical-align: middle;\n",
       "    }\n",
       "\n",
       "    .dataframe tbody tr th {\n",
       "        vertical-align: top;\n",
       "    }\n",
       "\n",
       "    .dataframe thead th {\n",
       "        text-align: right;\n",
       "    }\n",
       "</style>\n",
       "<table border=\"1\" class=\"dataframe\">\n",
       "  <thead>\n",
       "    <tr style=\"text-align: right;\">\n",
       "      <th></th>\n",
       "      <th>id</th>\n",
       "      <th>overall_qual</th>\n",
       "      <th>mas_vnr_area</th>\n",
       "      <th>exter_qual</th>\n",
       "      <th>bsmt_qual</th>\n",
       "      <th>total_bsmt_sf</th>\n",
       "      <th>heating_qc</th>\n",
       "      <th>1st_flr_sf</th>\n",
       "      <th>gr_liv_area</th>\n",
       "      <th>full_bath</th>\n",
       "      <th>...</th>\n",
       "      <th>roof_matl</th>\n",
       "      <th>mas_vnr_type</th>\n",
       "      <th>foundation</th>\n",
       "      <th>bsmt_exposure</th>\n",
       "      <th>heating</th>\n",
       "      <th>electrical</th>\n",
       "      <th>garage_finish</th>\n",
       "      <th>fence</th>\n",
       "      <th>misc_feature</th>\n",
       "      <th>neighborhood</th>\n",
       "    </tr>\n",
       "  </thead>\n",
       "  <tbody>\n",
       "    <tr>\n",
       "      <th>1124</th>\n",
       "      <td>2782</td>\n",
       "      <td>5</td>\n",
       "      <td>0.0</td>\n",
       "      <td>3</td>\n",
       "      <td>3.0</td>\n",
       "      <td>911.0</td>\n",
       "      <td>4</td>\n",
       "      <td>954</td>\n",
       "      <td>954</td>\n",
       "      <td>1</td>\n",
       "      <td>...</td>\n",
       "      <td>CompShg</td>\n",
       "      <td>None</td>\n",
       "      <td>CBlock</td>\n",
       "      <td>Av</td>\n",
       "      <td>GasA</td>\n",
       "      <td>SBrkr</td>\n",
       "      <td>Unf</td>\n",
       "      <td>NA</td>\n",
       "      <td>NA</td>\n",
       "      <td>CollgCr</td>\n",
       "    </tr>\n",
       "    <tr>\n",
       "      <th>188</th>\n",
       "      <td>2569</td>\n",
       "      <td>7</td>\n",
       "      <td>309.0</td>\n",
       "      <td>3</td>\n",
       "      <td>3.0</td>\n",
       "      <td>924.0</td>\n",
       "      <td>5</td>\n",
       "      <td>1216</td>\n",
       "      <td>2157</td>\n",
       "      <td>2</td>\n",
       "      <td>...</td>\n",
       "      <td>CompShg</td>\n",
       "      <td>BrkFace</td>\n",
       "      <td>CBlock</td>\n",
       "      <td>No</td>\n",
       "      <td>GasA</td>\n",
       "      <td>SBrkr</td>\n",
       "      <td>Fin</td>\n",
       "      <td>GdPrv</td>\n",
       "      <td>NA</td>\n",
       "      <td>NAmes</td>\n",
       "    </tr>\n",
       "    <tr>\n",
       "      <th>1727</th>\n",
       "      <td>1062</td>\n",
       "      <td>8</td>\n",
       "      <td>108.0</td>\n",
       "      <td>5</td>\n",
       "      <td>4.0</td>\n",
       "      <td>948.0</td>\n",
       "      <td>5</td>\n",
       "      <td>948</td>\n",
       "      <td>2088</td>\n",
       "      <td>2</td>\n",
       "      <td>...</td>\n",
       "      <td>CompShg</td>\n",
       "      <td>Stone</td>\n",
       "      <td>PConc</td>\n",
       "      <td>Av</td>\n",
       "      <td>GasA</td>\n",
       "      <td>SBrkr</td>\n",
       "      <td>Fin</td>\n",
       "      <td>NA</td>\n",
       "      <td>NA</td>\n",
       "      <td>NridgHt</td>\n",
       "    </tr>\n",
       "    <tr>\n",
       "      <th>1658</th>\n",
       "      <td>287</td>\n",
       "      <td>6</td>\n",
       "      <td>0.0</td>\n",
       "      <td>3</td>\n",
       "      <td>4.0</td>\n",
       "      <td>806.0</td>\n",
       "      <td>3</td>\n",
       "      <td>841</td>\n",
       "      <td>1647</td>\n",
       "      <td>1</td>\n",
       "      <td>...</td>\n",
       "      <td>CompShg</td>\n",
       "      <td>None</td>\n",
       "      <td>PConc</td>\n",
       "      <td>No</td>\n",
       "      <td>GasA</td>\n",
       "      <td>FuseF</td>\n",
       "      <td>Unf</td>\n",
       "      <td>NA</td>\n",
       "      <td>NA</td>\n",
       "      <td>SWISU</td>\n",
       "    </tr>\n",
       "    <tr>\n",
       "      <th>1424</th>\n",
       "      <td>2809</td>\n",
       "      <td>7</td>\n",
       "      <td>0.0</td>\n",
       "      <td>4</td>\n",
       "      <td>4.0</td>\n",
       "      <td>851.0</td>\n",
       "      <td>5</td>\n",
       "      <td>851</td>\n",
       "      <td>1737</td>\n",
       "      <td>2</td>\n",
       "      <td>...</td>\n",
       "      <td>CompShg</td>\n",
       "      <td>None</td>\n",
       "      <td>PConc</td>\n",
       "      <td>Mn</td>\n",
       "      <td>GasA</td>\n",
       "      <td>SBrkr</td>\n",
       "      <td>RFn</td>\n",
       "      <td>NA</td>\n",
       "      <td>NA</td>\n",
       "      <td>CollgCr</td>\n",
       "    </tr>\n",
       "  </tbody>\n",
       "</table>\n",
       "<p>5 rows × 37 columns</p>\n",
       "</div>"
      ],
      "text/plain": [
       "        id  overall_qual  mas_vnr_area  exter_qual  bsmt_qual  total_bsmt_sf  \\\n",
       "1124  2782             5           0.0           3        3.0          911.0   \n",
       "188   2569             7         309.0           3        3.0          924.0   \n",
       "1727  1062             8         108.0           5        4.0          948.0   \n",
       "1658   287             6           0.0           3        4.0          806.0   \n",
       "1424  2809             7           0.0           4        4.0          851.0   \n",
       "\n",
       "      heating_qc  1st_flr_sf  gr_liv_area  full_bath  ...  roof_matl  \\\n",
       "1124           4         954          954          1  ...    CompShg   \n",
       "188            5        1216         2157          2  ...    CompShg   \n",
       "1727           5         948         2088          2  ...    CompShg   \n",
       "1658           3         841         1647          1  ...    CompShg   \n",
       "1424           5         851         1737          2  ...    CompShg   \n",
       "\n",
       "      mas_vnr_type  foundation  bsmt_exposure  heating  electrical  \\\n",
       "1124          None      CBlock             Av     GasA       SBrkr   \n",
       "188        BrkFace      CBlock             No     GasA       SBrkr   \n",
       "1727         Stone       PConc             Av     GasA       SBrkr   \n",
       "1658          None       PConc             No     GasA       FuseF   \n",
       "1424          None       PConc             Mn     GasA       SBrkr   \n",
       "\n",
       "      garage_finish  fence misc_feature neighborhood  \n",
       "1124            Unf     NA           NA      CollgCr  \n",
       "188             Fin  GdPrv           NA        NAmes  \n",
       "1727            Fin     NA           NA      NridgHt  \n",
       "1658            Unf     NA           NA        SWISU  \n",
       "1424            RFn     NA           NA      CollgCr  \n",
       "\n",
       "[5 rows x 37 columns]"
      ]
     },
     "execution_count": 221,
     "metadata": {},
     "output_type": "execute_result"
    }
   ],
   "source": [
    "X_val = pd.concat([X_val_num, X_val_obj], axis = 1)\n",
    "X_val.head()"
   ]
  },
  {
   "cell_type": "code",
   "execution_count": 222,
   "id": "36812226-9148-4e05-bfe7-0493ba915424",
   "metadata": {},
   "outputs": [
    {
     "data": {
      "text/html": [
       "<div>\n",
       "<style scoped>\n",
       "    .dataframe tbody tr th:only-of-type {\n",
       "        vertical-align: middle;\n",
       "    }\n",
       "\n",
       "    .dataframe tbody tr th {\n",
       "        vertical-align: top;\n",
       "    }\n",
       "\n",
       "    .dataframe thead th {\n",
       "        text-align: right;\n",
       "    }\n",
       "</style>\n",
       "<table border=\"1\" class=\"dataframe\">\n",
       "  <thead>\n",
       "    <tr style=\"text-align: right;\">\n",
       "      <th></th>\n",
       "      <th>id</th>\n",
       "      <th>overall_qual</th>\n",
       "      <th>mas_vnr_area</th>\n",
       "      <th>exter_qual</th>\n",
       "      <th>bsmt_qual</th>\n",
       "      <th>total_bsmt_sf</th>\n",
       "      <th>heating_qc</th>\n",
       "      <th>1st_flr_sf</th>\n",
       "      <th>gr_liv_area</th>\n",
       "      <th>full_bath</th>\n",
       "      <th>...</th>\n",
       "      <th>roof_matl</th>\n",
       "      <th>mas_vnr_type</th>\n",
       "      <th>foundation</th>\n",
       "      <th>bsmt_exposure</th>\n",
       "      <th>heating</th>\n",
       "      <th>electrical</th>\n",
       "      <th>garage_finish</th>\n",
       "      <th>fence</th>\n",
       "      <th>misc_feature</th>\n",
       "      <th>neighborhood</th>\n",
       "    </tr>\n",
       "  </thead>\n",
       "  <tbody>\n",
       "    <tr>\n",
       "      <th>0</th>\n",
       "      <td>2658</td>\n",
       "      <td>6</td>\n",
       "      <td>0.0</td>\n",
       "      <td>3</td>\n",
       "      <td>2.0</td>\n",
       "      <td>1020</td>\n",
       "      <td>4</td>\n",
       "      <td>908</td>\n",
       "      <td>1928</td>\n",
       "      <td>2</td>\n",
       "      <td>...</td>\n",
       "      <td>CompShg</td>\n",
       "      <td>None</td>\n",
       "      <td>Stone</td>\n",
       "      <td>No</td>\n",
       "      <td>GasA</td>\n",
       "      <td>FuseP</td>\n",
       "      <td>Unf</td>\n",
       "      <td>NA</td>\n",
       "      <td>NA</td>\n",
       "      <td>OldTown</td>\n",
       "    </tr>\n",
       "    <tr>\n",
       "      <th>1</th>\n",
       "      <td>2718</td>\n",
       "      <td>5</td>\n",
       "      <td>0.0</td>\n",
       "      <td>3</td>\n",
       "      <td>4.0</td>\n",
       "      <td>1967</td>\n",
       "      <td>3</td>\n",
       "      <td>1967</td>\n",
       "      <td>1967</td>\n",
       "      <td>2</td>\n",
       "      <td>...</td>\n",
       "      <td>CompShg</td>\n",
       "      <td>None</td>\n",
       "      <td>CBlock</td>\n",
       "      <td>No</td>\n",
       "      <td>GasA</td>\n",
       "      <td>SBrkr</td>\n",
       "      <td>Fin</td>\n",
       "      <td>NA</td>\n",
       "      <td>NA</td>\n",
       "      <td>Sawyer</td>\n",
       "    </tr>\n",
       "    <tr>\n",
       "      <th>2</th>\n",
       "      <td>2414</td>\n",
       "      <td>7</td>\n",
       "      <td>0.0</td>\n",
       "      <td>4</td>\n",
       "      <td>4.0</td>\n",
       "      <td>654</td>\n",
       "      <td>5</td>\n",
       "      <td>664</td>\n",
       "      <td>1496</td>\n",
       "      <td>2</td>\n",
       "      <td>...</td>\n",
       "      <td>CompShg</td>\n",
       "      <td>None</td>\n",
       "      <td>PConc</td>\n",
       "      <td>Av</td>\n",
       "      <td>GasA</td>\n",
       "      <td>SBrkr</td>\n",
       "      <td>RFn</td>\n",
       "      <td>NA</td>\n",
       "      <td>NA</td>\n",
       "      <td>Gilbert</td>\n",
       "    </tr>\n",
       "    <tr>\n",
       "      <th>3</th>\n",
       "      <td>1989</td>\n",
       "      <td>5</td>\n",
       "      <td>0.0</td>\n",
       "      <td>4</td>\n",
       "      <td>3.0</td>\n",
       "      <td>968</td>\n",
       "      <td>3</td>\n",
       "      <td>968</td>\n",
       "      <td>968</td>\n",
       "      <td>1</td>\n",
       "      <td>...</td>\n",
       "      <td>CompShg</td>\n",
       "      <td>None</td>\n",
       "      <td>CBlock</td>\n",
       "      <td>No</td>\n",
       "      <td>GasA</td>\n",
       "      <td>SBrkr</td>\n",
       "      <td>Unf</td>\n",
       "      <td>NA</td>\n",
       "      <td>NA</td>\n",
       "      <td>OldTown</td>\n",
       "    </tr>\n",
       "    <tr>\n",
       "      <th>4</th>\n",
       "      <td>625</td>\n",
       "      <td>6</td>\n",
       "      <td>247.0</td>\n",
       "      <td>3</td>\n",
       "      <td>4.0</td>\n",
       "      <td>1394</td>\n",
       "      <td>4</td>\n",
       "      <td>1394</td>\n",
       "      <td>1394</td>\n",
       "      <td>1</td>\n",
       "      <td>...</td>\n",
       "      <td>CompShg</td>\n",
       "      <td>BrkFace</td>\n",
       "      <td>CBlock</td>\n",
       "      <td>No</td>\n",
       "      <td>GasA</td>\n",
       "      <td>SBrkr</td>\n",
       "      <td>RFn</td>\n",
       "      <td>NA</td>\n",
       "      <td>NA</td>\n",
       "      <td>NAmes</td>\n",
       "    </tr>\n",
       "  </tbody>\n",
       "</table>\n",
       "<p>5 rows × 37 columns</p>\n",
       "</div>"
      ],
      "text/plain": [
       "     id  overall_qual  mas_vnr_area  exter_qual  bsmt_qual  total_bsmt_sf  \\\n",
       "0  2658             6           0.0           3        2.0           1020   \n",
       "1  2718             5           0.0           3        4.0           1967   \n",
       "2  2414             7           0.0           4        4.0            654   \n",
       "3  1989             5           0.0           4        3.0            968   \n",
       "4   625             6         247.0           3        4.0           1394   \n",
       "\n",
       "   heating_qc  1st_flr_sf  gr_liv_area  full_bath  ...  roof_matl  \\\n",
       "0           4         908         1928          2  ...    CompShg   \n",
       "1           3        1967         1967          2  ...    CompShg   \n",
       "2           5         664         1496          2  ...    CompShg   \n",
       "3           3         968          968          1  ...    CompShg   \n",
       "4           4        1394         1394          1  ...    CompShg   \n",
       "\n",
       "   mas_vnr_type  foundation  bsmt_exposure  heating  electrical  \\\n",
       "0          None       Stone             No     GasA       FuseP   \n",
       "1          None      CBlock             No     GasA       SBrkr   \n",
       "2          None       PConc             Av     GasA       SBrkr   \n",
       "3          None      CBlock             No     GasA       SBrkr   \n",
       "4       BrkFace      CBlock             No     GasA       SBrkr   \n",
       "\n",
       "   garage_finish fence misc_feature neighborhood  \n",
       "0            Unf    NA           NA      OldTown  \n",
       "1            Fin    NA           NA       Sawyer  \n",
       "2            RFn    NA           NA      Gilbert  \n",
       "3            Unf    NA           NA      OldTown  \n",
       "4            RFn    NA           NA        NAmes  \n",
       "\n",
       "[5 rows x 37 columns]"
      ]
     },
     "execution_count": 222,
     "metadata": {},
     "output_type": "execute_result"
    }
   ],
   "source": [
    "test = pd.concat([test_num, test_obj], axis = 1)\n",
    "test.head()"
   ]
  },
  {
   "cell_type": "code",
   "execution_count": 223,
   "id": "a310bf38-b52c-4e0b-8a1d-a2c2b17b2102",
   "metadata": {},
   "outputs": [
    {
     "data": {
      "text/plain": [
       "(84, 23, 29)"
      ]
     },
     "execution_count": 223,
     "metadata": {},
     "output_type": "execute_result"
    }
   ],
   "source": [
    "X_train.isna().sum().sum(), X_val.isna().sum().sum(), test.isna().sum().sum()"
   ]
  },
  {
   "cell_type": "code",
   "execution_count": 224,
   "id": "2df3095a-bfb6-41e5-bc89-010125cf318f",
   "metadata": {
    "tags": []
   },
   "outputs": [
    {
     "data": {
      "text/plain": [
       "((1640, 37), (411, 37), (878, 37))"
      ]
     },
     "execution_count": 224,
     "metadata": {},
     "output_type": "execute_result"
    }
   ],
   "source": [
    "X_train.shape, X_val.shape, test.shape"
   ]
  },
  {
   "cell_type": "markdown",
   "id": "be7e85e9-0eb3-44a9-b364-73e2901ed4a1",
   "metadata": {},
   "source": [
    "### 2.4. Simple Imputer and OneHotEncoder"
   ]
  },
  {
   "cell_type": "code",
   "execution_count": 225,
   "id": "489d60de-fc33-42d2-bfeb-90b8225b0e0e",
   "metadata": {
    "tags": []
   },
   "outputs": [],
   "source": [
    "si = SimpleImputer(strategy = 'most_frequent')"
   ]
  },
  {
   "cell_type": "code",
   "execution_count": 226,
   "id": "78408dfb-ec12-421b-9b7a-4fb97c664300",
   "metadata": {},
   "outputs": [],
   "source": [
    "X_train = si.fit_transform(X_train)\n",
    "X_train = pd.DataFrame(X_train, columns = si.feature_names_in_ )"
   ]
  },
  {
   "cell_type": "code",
   "execution_count": 227,
   "id": "3c0eef15-54c6-45a8-b069-06f36e79e0a8",
   "metadata": {},
   "outputs": [],
   "source": [
    "X_val = si.transform(X_val)\n",
    "X_val = pd.DataFrame(X_val, columns = si.feature_names_in_ )"
   ]
  },
  {
   "cell_type": "code",
   "execution_count": 228,
   "id": "8ae01d2e-eca2-453f-9c59-1c5b77f01d9b",
   "metadata": {},
   "outputs": [],
   "source": [
    "test = si.transform(test)\n",
    "test = pd.DataFrame(test, columns = si.feature_names_in_ )"
   ]
  },
  {
   "cell_type": "code",
   "execution_count": 229,
   "id": "db3ecc0d-91ce-4ad9-a04b-3e48f34b376d",
   "metadata": {
    "tags": []
   },
   "outputs": [
    {
     "data": {
      "text/plain": [
       "(0, 0, 0)"
      ]
     },
     "execution_count": 229,
     "metadata": {},
     "output_type": "execute_result"
    }
   ],
   "source": [
    "X_train.isnull().sum().sum(), X_val.isnull().sum().sum(), test.isnull().sum().sum()"
   ]
  },
  {
   "cell_type": "code",
   "execution_count": 230,
   "id": "cd12c899-2086-4a3e-9424-0c6c03a3e4f6",
   "metadata": {
    "tags": []
   },
   "outputs": [
    {
     "data": {
      "text/html": [
       "<div>\n",
       "<style scoped>\n",
       "    .dataframe tbody tr th:only-of-type {\n",
       "        vertical-align: middle;\n",
       "    }\n",
       "\n",
       "    .dataframe tbody tr th {\n",
       "        vertical-align: top;\n",
       "    }\n",
       "\n",
       "    .dataframe thead th {\n",
       "        text-align: right;\n",
       "    }\n",
       "</style>\n",
       "<table border=\"1\" class=\"dataframe\">\n",
       "  <thead>\n",
       "    <tr style=\"text-align: right;\">\n",
       "      <th></th>\n",
       "      <th>id</th>\n",
       "      <th>overall_qual</th>\n",
       "      <th>mas_vnr_area</th>\n",
       "      <th>exter_qual</th>\n",
       "      <th>bsmt_qual</th>\n",
       "      <th>total_bsmt_sf</th>\n",
       "      <th>heating_qc</th>\n",
       "      <th>1st_flr_sf</th>\n",
       "      <th>gr_liv_area</th>\n",
       "      <th>full_bath</th>\n",
       "      <th>...</th>\n",
       "      <th>roof_matl</th>\n",
       "      <th>mas_vnr_type</th>\n",
       "      <th>foundation</th>\n",
       "      <th>bsmt_exposure</th>\n",
       "      <th>heating</th>\n",
       "      <th>electrical</th>\n",
       "      <th>garage_finish</th>\n",
       "      <th>fence</th>\n",
       "      <th>misc_feature</th>\n",
       "      <th>neighborhood</th>\n",
       "    </tr>\n",
       "  </thead>\n",
       "  <tbody>\n",
       "    <tr>\n",
       "      <th>0</th>\n",
       "      <td>452</td>\n",
       "      <td>6</td>\n",
       "      <td>240.0</td>\n",
       "      <td>4</td>\n",
       "      <td>4.0</td>\n",
       "      <td>1358.0</td>\n",
       "      <td>5</td>\n",
       "      <td>1358</td>\n",
       "      <td>1358</td>\n",
       "      <td>2</td>\n",
       "      <td>...</td>\n",
       "      <td>CompShg</td>\n",
       "      <td>Stone</td>\n",
       "      <td>PConc</td>\n",
       "      <td>Av</td>\n",
       "      <td>GasA</td>\n",
       "      <td>SBrkr</td>\n",
       "      <td>RFn</td>\n",
       "      <td>NA</td>\n",
       "      <td>NA</td>\n",
       "      <td>NridgHt</td>\n",
       "    </tr>\n",
       "    <tr>\n",
       "      <th>1</th>\n",
       "      <td>1697</td>\n",
       "      <td>8</td>\n",
       "      <td>375.0</td>\n",
       "      <td>4</td>\n",
       "      <td>4.0</td>\n",
       "      <td>1935.0</td>\n",
       "      <td>4</td>\n",
       "      <td>1973</td>\n",
       "      <td>1973</td>\n",
       "      <td>2</td>\n",
       "      <td>...</td>\n",
       "      <td>CompShg</td>\n",
       "      <td>BrkFace</td>\n",
       "      <td>PConc</td>\n",
       "      <td>Av</td>\n",
       "      <td>GasA</td>\n",
       "      <td>SBrkr</td>\n",
       "      <td>Fin</td>\n",
       "      <td>NA</td>\n",
       "      <td>NA</td>\n",
       "      <td>NridgHt</td>\n",
       "    </tr>\n",
       "    <tr>\n",
       "      <th>2</th>\n",
       "      <td>2294</td>\n",
       "      <td>6</td>\n",
       "      <td>0.0</td>\n",
       "      <td>3</td>\n",
       "      <td>4.0</td>\n",
       "      <td>1244.0</td>\n",
       "      <td>3</td>\n",
       "      <td>1356</td>\n",
       "      <td>1356</td>\n",
       "      <td>2</td>\n",
       "      <td>...</td>\n",
       "      <td>CompShg</td>\n",
       "      <td>None</td>\n",
       "      <td>PConc</td>\n",
       "      <td>Gd</td>\n",
       "      <td>GasA</td>\n",
       "      <td>SBrkr</td>\n",
       "      <td>Fin</td>\n",
       "      <td>MnPrv</td>\n",
       "      <td>NA</td>\n",
       "      <td>Mitchel</td>\n",
       "    </tr>\n",
       "    <tr>\n",
       "      <th>3</th>\n",
       "      <td>2449</td>\n",
       "      <td>8</td>\n",
       "      <td>650.0</td>\n",
       "      <td>4</td>\n",
       "      <td>4.0</td>\n",
       "      <td>1141.0</td>\n",
       "      <td>4</td>\n",
       "      <td>1165</td>\n",
       "      <td>2263</td>\n",
       "      <td>2</td>\n",
       "      <td>...</td>\n",
       "      <td>CompShg</td>\n",
       "      <td>BrkFace</td>\n",
       "      <td>PConc</td>\n",
       "      <td>No</td>\n",
       "      <td>GasA</td>\n",
       "      <td>SBrkr</td>\n",
       "      <td>Fin</td>\n",
       "      <td>NA</td>\n",
       "      <td>NA</td>\n",
       "      <td>NoRidge</td>\n",
       "    </tr>\n",
       "    <tr>\n",
       "      <th>4</th>\n",
       "      <td>1859</td>\n",
       "      <td>6</td>\n",
       "      <td>360.0</td>\n",
       "      <td>4</td>\n",
       "      <td>3.0</td>\n",
       "      <td>528.0</td>\n",
       "      <td>5</td>\n",
       "      <td>1094</td>\n",
       "      <td>1855</td>\n",
       "      <td>2</td>\n",
       "      <td>...</td>\n",
       "      <td>CompShg</td>\n",
       "      <td>BrkFace</td>\n",
       "      <td>CBlock</td>\n",
       "      <td>No</td>\n",
       "      <td>GasA</td>\n",
       "      <td>SBrkr</td>\n",
       "      <td>RFn</td>\n",
       "      <td>NA</td>\n",
       "      <td>NA</td>\n",
       "      <td>Veenker</td>\n",
       "    </tr>\n",
       "  </tbody>\n",
       "</table>\n",
       "<p>5 rows × 37 columns</p>\n",
       "</div>"
      ],
      "text/plain": [
       "     id overall_qual mas_vnr_area exter_qual bsmt_qual total_bsmt_sf  \\\n",
       "0   452            6        240.0          4       4.0        1358.0   \n",
       "1  1697            8        375.0          4       4.0        1935.0   \n",
       "2  2294            6          0.0          3       4.0        1244.0   \n",
       "3  2449            8        650.0          4       4.0        1141.0   \n",
       "4  1859            6        360.0          4       3.0         528.0   \n",
       "\n",
       "  heating_qc 1st_flr_sf gr_liv_area full_bath  ... roof_matl mas_vnr_type  \\\n",
       "0          5       1358        1358         2  ...   CompShg        Stone   \n",
       "1          4       1973        1973         2  ...   CompShg      BrkFace   \n",
       "2          3       1356        1356         2  ...   CompShg         None   \n",
       "3          4       1165        2263         2  ...   CompShg      BrkFace   \n",
       "4          5       1094        1855         2  ...   CompShg      BrkFace   \n",
       "\n",
       "  foundation bsmt_exposure heating electrical garage_finish  fence  \\\n",
       "0      PConc            Av    GasA      SBrkr           RFn     NA   \n",
       "1      PConc            Av    GasA      SBrkr           Fin     NA   \n",
       "2      PConc            Gd    GasA      SBrkr           Fin  MnPrv   \n",
       "3      PConc            No    GasA      SBrkr           Fin     NA   \n",
       "4     CBlock            No    GasA      SBrkr           RFn     NA   \n",
       "\n",
       "  misc_feature neighborhood  \n",
       "0           NA      NridgHt  \n",
       "1           NA      NridgHt  \n",
       "2           NA      Mitchel  \n",
       "3           NA      NoRidge  \n",
       "4           NA      Veenker  \n",
       "\n",
       "[5 rows x 37 columns]"
      ]
     },
     "execution_count": 230,
     "metadata": {},
     "output_type": "execute_result"
    }
   ],
   "source": [
    "X_train.head()"
   ]
  },
  {
   "cell_type": "code",
   "execution_count": 231,
   "id": "038e5943-7f0c-4225-bc12-353c2d3ba28c",
   "metadata": {
    "tags": []
   },
   "outputs": [],
   "source": [
    "ohe = OneHotEncoder(drop = 'first', handle_unknown = 'ignore', sparse = False)"
   ]
  },
  {
   "cell_type": "code",
   "execution_count": 232,
   "id": "5bc869c2-2c86-41aa-97ec-7575ed3dd603",
   "metadata": {
    "tags": []
   },
   "outputs": [],
   "source": [
    "encoder = make_column_transformer(\n",
    "    (ohe, col_list),\n",
    "    remainder = 'passthrough', # don't drop other columns\n",
    "    verbose_feature_names_out = False\n",
    ")"
   ]
  },
  {
   "cell_type": "code",
   "execution_count": 233,
   "id": "767441a3-c8f0-4852-993e-b6dd864eabc8",
   "metadata": {},
   "outputs": [],
   "source": [
    "X_train = encoder.fit_transform(X_train)\n",
    "X_train = pd.DataFrame(X_train, columns = encoder.get_feature_names_out())"
   ]
  },
  {
   "cell_type": "code",
   "execution_count": 234,
   "id": "526775f3-b434-42db-8f64-5ff6f6871fb0",
   "metadata": {
    "tags": []
   },
   "outputs": [
    {
     "name": "stderr",
     "output_type": "stream",
     "text": [
      "/opt/anaconda3/lib/python3.9/site-packages/sklearn/preprocessing/_encoders.py:170: UserWarning: Found unknown categories in columns [0, 5] during transform. These unknown categories will be encoded as all zeros\n",
      "  warnings.warn(\n"
     ]
    }
   ],
   "source": [
    "X_val = encoder.transform(X_val)\n",
    "X_val = pd.DataFrame(X_val, columns = encoder.get_feature_names_out())"
   ]
  },
  {
   "cell_type": "code",
   "execution_count": 235,
   "id": "e0c2fea4-48df-4070-9e06-73789207a18d",
   "metadata": {},
   "outputs": [
    {
     "name": "stderr",
     "output_type": "stream",
     "text": [
      "/opt/anaconda3/lib/python3.9/site-packages/sklearn/preprocessing/_encoders.py:170: UserWarning: Found unknown categories in columns [0, 5, 10, 11, 14] during transform. These unknown categories will be encoded as all zeros\n",
      "  warnings.warn(\n"
     ]
    }
   ],
   "source": [
    "test = encoder.transform(test)\n",
    "test = pd.DataFrame(test, columns = encoder.get_feature_names_out())"
   ]
  },
  {
   "cell_type": "code",
   "execution_count": 236,
   "id": "d5b5d609-f264-4386-91e4-21a0de26c0c5",
   "metadata": {},
   "outputs": [
    {
     "data": {
      "text/plain": [
       "((1640, 110), (411, 110), (878, 110))"
      ]
     },
     "execution_count": 236,
     "metadata": {},
     "output_type": "execute_result"
    }
   ],
   "source": [
    "X_train.shape, X_val.shape, test.shape"
   ]
  },
  {
   "cell_type": "markdown",
   "id": "b0ee42ba-2635-42f2-99ad-c497622dd7be",
   "metadata": {},
   "source": [
    "### 2.5. Polynomial Feature and Standard Scaler"
   ]
  },
  {
   "cell_type": "code",
   "execution_count": 237,
   "id": "fd1db39a-f73b-49f9-89fe-61bbe52576f9",
   "metadata": {},
   "outputs": [],
   "source": [
    "# poly = PolynomialFeatures(degree = 2,\n",
    "#                          interaction_only = True,\n",
    "#                          include_bias = False)\n",
    "\n",
    "# X_train = poly.fit_transform(X_train)\n",
    "# X_train = pd.DataFrame(X_train, columns = poly.get_feature_names_out())\n",
    "\n",
    "# X_val = poly.transform(X_val)\n",
    "# X_val = pd.DataFrame(X_val, columns = poly.get_feature_names_out())\n",
    "\n",
    "# test = poly.transform(test)\n",
    "# test = pd.DataFrame(test, columns = poly.get_feature_names_out())"
   ]
  },
  {
   "cell_type": "code",
   "execution_count": 238,
   "id": "51211574-8787-468b-a06c-6b007e4235fc",
   "metadata": {},
   "outputs": [],
   "source": [
    "# X_train.shape, X_val.shape"
   ]
  },
  {
   "cell_type": "code",
   "execution_count": 239,
   "id": "c0ecbcc9-daad-4b8f-8267-f47fc8f1c2ba",
   "metadata": {},
   "outputs": [],
   "source": [
    "# remove id column before Standard Scaler\n",
    "train_id = X_train['id']\n",
    "val_id = X_val['id']\n",
    "test_id = test['id']\n",
    "\n",
    "X_train = X_train.drop(columns = ['id'])\n",
    "X_val = X_val.drop(columns = ['id'])\n",
    "test = test.drop(columns = ['id'])"
   ]
  },
  {
   "cell_type": "code",
   "execution_count": 240,
   "id": "799f52d4-8e77-477e-b530-b4fafc95a4d7",
   "metadata": {
    "tags": []
   },
   "outputs": [],
   "source": [
    "ss = StandardScaler()\n",
    "\n",
    "X_train = ss.fit_transform(X_train)\n",
    "X_train = pd.DataFrame(X_train, columns = ss.get_feature_names_out())\n",
    "\n",
    "X_val = ss.transform(X_val)\n",
    "X_val = pd.DataFrame(X_val, columns = ss.get_feature_names_out())\n",
    "\n",
    "test = ss.transform(test)\n",
    "test = pd.DataFrame(test, columns = ss.get_feature_names_out())"
   ]
  },
  {
   "cell_type": "code",
   "execution_count": 241,
   "id": "897e13c5-a9b3-47f3-8bb2-afb5eacd56d3",
   "metadata": {
    "tags": []
   },
   "outputs": [
    {
     "data": {
      "text/plain": [
       "((1640, 109), (411, 109), (878, 109))"
      ]
     },
     "execution_count": 241,
     "metadata": {},
     "output_type": "execute_result"
    }
   ],
   "source": [
    "X_train.shape, X_val.shape, test.shape"
   ]
  },
  {
   "cell_type": "code",
   "execution_count": 242,
   "id": "29208b7d-0225-40fe-82b0-601fe705e589",
   "metadata": {
    "tags": []
   },
   "outputs": [],
   "source": [
    "X_train = pd.concat([train_id, X_train], axis = 1)\n",
    "X_val = pd.concat([val_id, X_val], axis = 1)\n",
    "test = pd.concat([test_id, test], axis = 1)"
   ]
  },
  {
   "cell_type": "code",
   "execution_count": 243,
   "id": "c1635c8c-4359-4182-a108-1de3b3d04417",
   "metadata": {},
   "outputs": [
    {
     "data": {
      "text/html": [
       "<div>\n",
       "<style scoped>\n",
       "    .dataframe tbody tr th:only-of-type {\n",
       "        vertical-align: middle;\n",
       "    }\n",
       "\n",
       "    .dataframe tbody tr th {\n",
       "        vertical-align: top;\n",
       "    }\n",
       "\n",
       "    .dataframe thead th {\n",
       "        text-align: right;\n",
       "    }\n",
       "</style>\n",
       "<table border=\"1\" class=\"dataframe\">\n",
       "  <thead>\n",
       "    <tr style=\"text-align: right;\">\n",
       "      <th></th>\n",
       "      <th>id</th>\n",
       "      <th>ms_zoning_C (all)</th>\n",
       "      <th>ms_zoning_FV</th>\n",
       "      <th>ms_zoning_RH</th>\n",
       "      <th>ms_zoning_RL</th>\n",
       "      <th>ms_zoning_RM</th>\n",
       "      <th>street_Pave</th>\n",
       "      <th>alley_NA</th>\n",
       "      <th>alley_Pave</th>\n",
       "      <th>lot_shape_IR2</th>\n",
       "      <th>...</th>\n",
       "      <th>1st_flr_sf</th>\n",
       "      <th>gr_liv_area</th>\n",
       "      <th>full_bath</th>\n",
       "      <th>kitchen_qual</th>\n",
       "      <th>totrms_abvgrd</th>\n",
       "      <th>fireplaces</th>\n",
       "      <th>garage_cars</th>\n",
       "      <th>garage_area</th>\n",
       "      <th>house_age_built</th>\n",
       "      <th>house_age_remodel</th>\n",
       "    </tr>\n",
       "  </thead>\n",
       "  <tbody>\n",
       "    <tr>\n",
       "      <th>0</th>\n",
       "      <td>452</td>\n",
       "      <td>-0.099258</td>\n",
       "      <td>-0.23812</td>\n",
       "      <td>-0.089388</td>\n",
       "      <td>0.5407</td>\n",
       "      <td>-0.426094</td>\n",
       "      <td>0.0553</td>\n",
       "      <td>0.278441</td>\n",
       "      <td>-0.17364</td>\n",
       "      <td>-0.158114</td>\n",
       "      <td>...</td>\n",
       "      <td>0.478981</td>\n",
       "      <td>-0.279707</td>\n",
       "      <td>0.760097</td>\n",
       "      <td>0.723473</td>\n",
       "      <td>-0.269843</td>\n",
       "      <td>0.649556</td>\n",
       "      <td>0.298359</td>\n",
       "      <td>0.048810</td>\n",
       "      <td>-1.056614</td>\n",
       "      <td>-0.932923</td>\n",
       "    </tr>\n",
       "    <tr>\n",
       "      <th>1</th>\n",
       "      <td>1697</td>\n",
       "      <td>-0.099258</td>\n",
       "      <td>-0.23812</td>\n",
       "      <td>-0.089388</td>\n",
       "      <td>0.5407</td>\n",
       "      <td>-0.426094</td>\n",
       "      <td>0.0553</td>\n",
       "      <td>0.278441</td>\n",
       "      <td>-0.17364</td>\n",
       "      <td>-0.158114</td>\n",
       "      <td>...</td>\n",
       "      <td>2.000532</td>\n",
       "      <td>0.936761</td>\n",
       "      <td>0.760097</td>\n",
       "      <td>0.723473</td>\n",
       "      <td>1.648695</td>\n",
       "      <td>0.649556</td>\n",
       "      <td>1.603182</td>\n",
       "      <td>1.925248</td>\n",
       "      <td>-1.155895</td>\n",
       "      <td>-1.076042</td>\n",
       "    </tr>\n",
       "    <tr>\n",
       "      <th>2</th>\n",
       "      <td>2294</td>\n",
       "      <td>-0.099258</td>\n",
       "      <td>-0.23812</td>\n",
       "      <td>-0.089388</td>\n",
       "      <td>0.5407</td>\n",
       "      <td>-0.426094</td>\n",
       "      <td>0.0553</td>\n",
       "      <td>0.278441</td>\n",
       "      <td>-0.17364</td>\n",
       "      <td>-0.158114</td>\n",
       "      <td>...</td>\n",
       "      <td>0.474033</td>\n",
       "      <td>-0.283663</td>\n",
       "      <td>0.760097</td>\n",
       "      <td>-0.782232</td>\n",
       "      <td>-0.269843</td>\n",
       "      <td>0.649556</td>\n",
       "      <td>0.298359</td>\n",
       "      <td>0.249693</td>\n",
       "      <td>-0.196181</td>\n",
       "      <td>0.307445</td>\n",
       "    </tr>\n",
       "    <tr>\n",
       "      <th>3</th>\n",
       "      <td>2449</td>\n",
       "      <td>-0.099258</td>\n",
       "      <td>-0.23812</td>\n",
       "      <td>-0.089388</td>\n",
       "      <td>0.5407</td>\n",
       "      <td>-0.426094</td>\n",
       "      <td>0.0553</td>\n",
       "      <td>0.278441</td>\n",
       "      <td>-0.17364</td>\n",
       "      <td>-0.158114</td>\n",
       "      <td>...</td>\n",
       "      <td>0.001486</td>\n",
       "      <td>1.510380</td>\n",
       "      <td>0.760097</td>\n",
       "      <td>0.723473</td>\n",
       "      <td>2.288208</td>\n",
       "      <td>0.649556</td>\n",
       "      <td>0.298359</td>\n",
       "      <td>-0.243385</td>\n",
       "      <td>-0.924240</td>\n",
       "      <td>-0.742097</td>\n",
       "    </tr>\n",
       "    <tr>\n",
       "      <th>4</th>\n",
       "      <td>1859</td>\n",
       "      <td>-0.099258</td>\n",
       "      <td>-0.23812</td>\n",
       "      <td>-0.089388</td>\n",
       "      <td>0.5407</td>\n",
       "      <td>-0.426094</td>\n",
       "      <td>0.0553</td>\n",
       "      <td>0.278441</td>\n",
       "      <td>-0.17364</td>\n",
       "      <td>-0.158114</td>\n",
       "      <td>...</td>\n",
       "      <td>-0.174173</td>\n",
       "      <td>0.703357</td>\n",
       "      <td>0.760097</td>\n",
       "      <td>-0.782232</td>\n",
       "      <td>0.369670</td>\n",
       "      <td>0.649556</td>\n",
       "      <td>0.298359</td>\n",
       "      <td>0.176645</td>\n",
       "      <td>-0.163087</td>\n",
       "      <td>-0.503565</td>\n",
       "    </tr>\n",
       "  </tbody>\n",
       "</table>\n",
       "<p>5 rows × 110 columns</p>\n",
       "</div>"
      ],
      "text/plain": [
       "     id  ms_zoning_C (all)  ms_zoning_FV  ms_zoning_RH  ms_zoning_RL  \\\n",
       "0   452          -0.099258      -0.23812     -0.089388        0.5407   \n",
       "1  1697          -0.099258      -0.23812     -0.089388        0.5407   \n",
       "2  2294          -0.099258      -0.23812     -0.089388        0.5407   \n",
       "3  2449          -0.099258      -0.23812     -0.089388        0.5407   \n",
       "4  1859          -0.099258      -0.23812     -0.089388        0.5407   \n",
       "\n",
       "   ms_zoning_RM  street_Pave  alley_NA  alley_Pave  lot_shape_IR2  ...  \\\n",
       "0     -0.426094       0.0553  0.278441    -0.17364      -0.158114  ...   \n",
       "1     -0.426094       0.0553  0.278441    -0.17364      -0.158114  ...   \n",
       "2     -0.426094       0.0553  0.278441    -0.17364      -0.158114  ...   \n",
       "3     -0.426094       0.0553  0.278441    -0.17364      -0.158114  ...   \n",
       "4     -0.426094       0.0553  0.278441    -0.17364      -0.158114  ...   \n",
       "\n",
       "   1st_flr_sf  gr_liv_area  full_bath  kitchen_qual  totrms_abvgrd  \\\n",
       "0    0.478981    -0.279707   0.760097      0.723473      -0.269843   \n",
       "1    2.000532     0.936761   0.760097      0.723473       1.648695   \n",
       "2    0.474033    -0.283663   0.760097     -0.782232      -0.269843   \n",
       "3    0.001486     1.510380   0.760097      0.723473       2.288208   \n",
       "4   -0.174173     0.703357   0.760097     -0.782232       0.369670   \n",
       "\n",
       "   fireplaces  garage_cars  garage_area  house_age_built  house_age_remodel  \n",
       "0    0.649556     0.298359     0.048810        -1.056614          -0.932923  \n",
       "1    0.649556     1.603182     1.925248        -1.155895          -1.076042  \n",
       "2    0.649556     0.298359     0.249693        -0.196181           0.307445  \n",
       "3    0.649556     0.298359    -0.243385        -0.924240          -0.742097  \n",
       "4    0.649556     0.298359     0.176645        -0.163087          -0.503565  \n",
       "\n",
       "[5 rows x 110 columns]"
      ]
     },
     "execution_count": 243,
     "metadata": {},
     "output_type": "execute_result"
    }
   ],
   "source": [
    "X_train.head()"
   ]
  },
  {
   "cell_type": "markdown",
   "id": "b930c7e9-5088-4041-83b4-3a8e4c869190",
   "metadata": {},
   "source": [
    "## 3. Modeling"
   ]
  },
  {
   "cell_type": "code",
   "execution_count": 244,
   "id": "797df13a-4725-412c-9765-8f389af22ae6",
   "metadata": {
    "tags": []
   },
   "outputs": [],
   "source": [
    "# remove id column before Modeling\n",
    "train_id = X_train['id']\n",
    "val_id = X_val['id']\n",
    "test_id = test['id']\n",
    "\n",
    "X_train = X_train.drop(columns = ['id'])\n",
    "X_val = X_val.drop(columns = ['id'])\n",
    "test = test.drop(columns = ['id'])"
   ]
  },
  {
   "cell_type": "code",
   "execution_count": 245,
   "id": "40f0251a-d2b5-4870-961f-d3d5b8f7a348",
   "metadata": {},
   "outputs": [],
   "source": [
    "lr = LinearRegression()"
   ]
  },
  {
   "cell_type": "code",
   "execution_count": 246,
   "id": "48628ee4-ffc6-4ad3-acf5-edc09cf26733",
   "metadata": {},
   "outputs": [
    {
     "data": {
      "text/plain": [
       "LinearRegression()"
      ]
     },
     "execution_count": 246,
     "metadata": {},
     "output_type": "execute_result"
    }
   ],
   "source": [
    "lr.fit(X_train, y_train)"
   ]
  },
  {
   "cell_type": "code",
   "execution_count": 247,
   "id": "c88f77d4-83ae-4418-aa18-2febf6321b51",
   "metadata": {
    "tags": []
   },
   "outputs": [],
   "source": [
    "train_pred = lr.predict(X_train)\n",
    "\n",
    "val_pred = lr.predict(X_val)\n",
    "\n",
    "test_pred = lr.predict(test)"
   ]
  },
  {
   "cell_type": "code",
   "execution_count": 248,
   "id": "a8067ed0-2814-43c7-9b17-8af1ee7fbad1",
   "metadata": {},
   "outputs": [],
   "source": [
    "train_res = y_train - train_pred\n",
    "\n",
    "val_res = y_val - val_pred"
   ]
  },
  {
   "cell_type": "code",
   "execution_count": 249,
   "id": "4e75af7c-b45c-48db-b29a-90350b0f0cda",
   "metadata": {
    "tags": []
   },
   "outputs": [
    {
     "data": {
      "text/plain": [
       "(0.9084045595301697, 0.8876059170482813)"
      ]
     },
     "execution_count": 249,
     "metadata": {},
     "output_type": "execute_result"
    }
   ],
   "source": [
    "lr.score(X_train, y_train), lr.score(X_val, y_val)"
   ]
  },
  {
   "cell_type": "code",
   "execution_count": 250,
   "id": "72b67dd3-d67d-4c15-9923-986b561d5862",
   "metadata": {
    "tags": []
   },
   "outputs": [
    {
     "data": {
      "text/plain": [
       "(24141.907389553162, 25841.656008786063)"
      ]
     },
     "execution_count": 250,
     "metadata": {},
     "output_type": "execute_result"
    }
   ],
   "source": [
    "metrics.mean_squared_error(y_train, train_pred) ** 0.5, metrics.mean_squared_error(y_val, val_pred) ** 0.5"
   ]
  },
  {
   "cell_type": "code",
   "execution_count": 251,
   "id": "25c72067-32a1-4027-a2fd-99e23ded25fd",
   "metadata": {
    "tags": []
   },
   "outputs": [
    {
     "data": {
      "text/plain": [
       "array([ 8.90785016e-01, -1.43571219e+25, -6.00332999e+25, -1.67316640e+23,\n",
       "       -6.59302630e+22])"
      ]
     },
     "execution_count": 251,
     "metadata": {},
     "output_type": "execute_result"
    }
   ],
   "source": [
    "cross_val_score(lr, X_train, y_train, scoring = 'r2')"
   ]
  },
  {
   "cell_type": "code",
   "execution_count": 252,
   "id": "50b32cf5-0f14-4806-a383-23ec344c7576",
   "metadata": {
    "tags": []
   },
   "outputs": [
    {
     "data": {
      "image/png": "[encoded data removed]",
      "text/plain": [
       "<Figure size 1440x576 with 2 Axes>"
      ]
     },
     "metadata": {
      "needs_background": "light"
     },
     "output_type": "display_data"
    }
   ],
   "source": [
    "plt.figure(figsize = (20,8))\n",
    "plt.subplot(1, 2, 1)\n",
    "plt.scatter(x = train_pred, y = y_train)\n",
    "plt.title('The Predicted and Actual Value of Train Dataset')\n",
    "plt.xlabel('Prediction of Train Dataset')\n",
    "plt.ylabel('Actual Value of Train Dataset')\n",
    "plt.xlim(0, 520000)\n",
    "plt.ylim(0, 620000)\n",
    "\n",
    "plt.subplot(1, 2, 2)\n",
    "plt.scatter(x = val_pred, y = y_val)\n",
    "plt.title('The Predicted and Actual Value of Validation Dataset')\n",
    "plt.xlabel('Prediction of Validation Dataset')\n",
    "plt.ylabel('Actual Value of Validation Dataset')\n",
    "plt.xlim(0, 520000)\n",
    "plt.ylim(0, 620000);\n",
    "plt.savefig('./images/lr_actual_pred.jpg');"
   ]
  },
  {
   "cell_type": "code",
   "execution_count": 289,
   "id": "ac1eac61-66ac-4ff5-b1fb-001a8b42200f",
   "metadata": {},
   "outputs": [
    {
     "data": {
      "image/png": "[encoded data removed]",
      "text/plain": [
       "<Figure size 1440x576 with 1 Axes>"
      ]
     },
     "metadata": {
      "needs_background": "light"
     },
     "output_type": "display_data"
    }
   ],
   "source": [
    "plt.figure(figsize = (20,8))\n",
    "plt.scatter(x = train_pred, y = y_train, c = 'orange')\n",
    "plt.scatter(x = val_pred, y = y_val, c = 'blue')\n",
    "plt.title('The Predicted and Actual Value of Train Dataset')\n",
    "plt.xlabel('Prediction of Train Dataset')\n",
    "plt.ylabel('Actual Value of Train Dataset')\n",
    "plt.xlim(0, 520000)\n",
    "plt.ylim(0, 620000)\n",
    "plt.savefig('./images/lr_toge_actual_pred.jpg');"
   ]
  },
  {
   "cell_type": "code",
   "execution_count": 254,
   "id": "6ac59149-9182-4be5-8ccd-af4aa6903eed",
   "metadata": {
    "tags": []
   },
   "outputs": [
    {
     "data": {
      "image/png": "[encoded data removed]",
      "text/plain": [
       "<Figure size 1440x576 with 2 Axes>"
      ]
     },
     "metadata": {
      "needs_background": "light"
     },
     "output_type": "display_data"
    }
   ],
   "source": [
    "plt.figure(figsize = (20, 8))\n",
    "plt.subplot(1, 2, 1)\n",
    "plt.scatter(train_pred, train_res)\n",
    "plt.axhline(0, color='red')\n",
    "plt.title('The Residual Distribution of Train Dataset')\n",
    "plt.xlabel('Prediction of Train Dataset')\n",
    "plt.ylabel('Residuals of Train Dataset')\n",
    "plt.xlim(0, 500000)\n",
    "plt.ylim(-200000, 200000)\n",
    "\n",
    "plt.subplot(1, 2, 2)\n",
    "plt.scatter(val_pred, val_res)\n",
    "plt.axhline(0, color='red')\n",
    "plt.title('The Residual Distribution of Validation Dataset')\n",
    "plt.xlabel('Prediction of Validation Dataset')\n",
    "plt.ylabel('Residuals of Validation Dataset')\n",
    "plt.xlim(0, 500000)\n",
    "plt.ylim(-200000, 200000);\n",
    "plt.savefig('./images/lr_residual_scatter.jpg');"
   ]
  },
  {
   "cell_type": "code",
   "execution_count": 293,
   "id": "76202e97-e46f-45e3-8270-8fa53c60cbab",
   "metadata": {},
   "outputs": [
    {
     "data": {
      "image/png": "[encoded data removed]",
      "text/plain": [
       "<Figure size 1440x576 with 1 Axes>"
      ]
     },
     "metadata": {
      "needs_background": "light"
     },
     "output_type": "display_data"
    }
   ],
   "source": [
    "plt.figure(figsize = (20, 8))\n",
    "plt.scatter(train_pred, train_res)\n",
    "plt.scatter(val_pred, val_res)\n",
    "plt.axhline(0, color='red')\n",
    "plt.title('The Residual Distribution')\n",
    "plt.xlabel('Prediction', c = 'orange')\n",
    "plt.ylabel('Residuals', c = 'blue')\n",
    "plt.xlim(0, 500000)\n",
    "plt.ylim(-200000, 200000)\n",
    "plt.savefig('./images/lr__toge_residual_scatter.jpg');"
   ]
  },
  {
   "cell_type": "code",
   "execution_count": 255,
   "id": "68cae452-5229-40eb-95d1-ae8d1dcc84c3",
   "metadata": {},
   "outputs": [
    {
     "data": {
      "image/png": "[encoded data removed]",
      "text/plain": [
       "<Figure size 1080x360 with 2 Axes>"
      ]
     },
     "metadata": {
      "needs_background": "light"
     },
     "output_type": "display_data"
    }
   ],
   "source": [
    "plt.figure(figsize = (15,5))\n",
    "plt.subplot(1, 2, 1)\n",
    "plt.hist(train_res, bins = 20)\n",
    "plt.title('The Residual Distribution of Train Dataset')\n",
    "plt.xlabel('Prediction of Train Dataset')\n",
    "plt.ylabel('Residuals of Train Dataset')\n",
    "plt.xlim(-200000, 200000)\n",
    "plt.ylim(0, 800)\n",
    "\n",
    "plt.subplot(1, 2, 2)\n",
    "plt.hist(val_res, bins = 20)\n",
    "plt.title('The Residual Distribution of Validation Dataset')\n",
    "plt.xlabel('Prediction of Validation Dataset')\n",
    "plt.ylabel('Residuals of Validation Dataset')\n",
    "plt.xlim(-200000, 200000)\n",
    "plt.ylim(0, 800);\n",
    "plt.savefig('./images/lr_residual_hist.jpg');"
   ]
  },
  {
   "cell_type": "code",
   "execution_count": 256,
   "id": "ce9e47e4-2c9d-4c8c-bb75-df31f40cee3f",
   "metadata": {
    "tags": []
   },
   "outputs": [
    {
     "data": {
      "text/plain": [
       "181718.52743902436"
      ]
     },
     "execution_count": 256,
     "metadata": {},
     "output_type": "execute_result"
    }
   ],
   "source": [
    "lr.intercept_"
   ]
  },
  {
   "cell_type": "code",
   "execution_count": 257,
   "id": "fa9e7e21-5bc2-4eb6-9b5f-334f8e98f7d6",
   "metadata": {
    "tags": []
   },
   "outputs": [],
   "source": [
    "coef = pd.DataFrame(list(zip(lr.feature_names_in_, lr.coef_)))\n",
    "coef.columns = ['parameter', 'coefficient']\n",
    "coef = coef.sort_values(by = 'coefficient')\n",
    "\n",
    "coef.to_csv('./datasets/lr_coef.csv', index = False)"
   ]
  },
  {
   "cell_type": "code",
   "execution_count": 258,
   "id": "fdb78b56-00d3-463f-8807-d2db46b72cdd",
   "metadata": {
    "tags": []
   },
   "outputs": [
    {
     "data": {
      "text/html": [
       "<div>\n",
       "<style scoped>\n",
       "    .dataframe tbody tr th:only-of-type {\n",
       "        vertical-align: middle;\n",
       "    }\n",
       "\n",
       "    .dataframe tbody tr th {\n",
       "        vertical-align: top;\n",
       "    }\n",
       "\n",
       "    .dataframe thead th {\n",
       "        text-align: right;\n",
       "    }\n",
       "</style>\n",
       "<table border=\"1\" class=\"dataframe\">\n",
       "  <thead>\n",
       "    <tr style=\"text-align: right;\">\n",
       "      <th></th>\n",
       "      <th>parameter</th>\n",
       "      <th>coefficient</th>\n",
       "    </tr>\n",
       "  </thead>\n",
       "  <tbody>\n",
       "    <tr>\n",
       "      <th>23</th>\n",
       "      <td>bldg_type_TwnhsE</td>\n",
       "      <td>-8128.094567</td>\n",
       "    </tr>\n",
       "    <tr>\n",
       "      <th>22</th>\n",
       "      <td>bldg_type_Twnhs</td>\n",
       "      <td>-5421.709342</td>\n",
       "    </tr>\n",
       "    <tr>\n",
       "      <th>107</th>\n",
       "      <td>house_age_built</td>\n",
       "      <td>-4320.928476</td>\n",
       "    </tr>\n",
       "    <tr>\n",
       "      <th>55</th>\n",
       "      <td>garage_finish_RFn</td>\n",
       "      <td>-3799.617902</td>\n",
       "    </tr>\n",
       "    <tr>\n",
       "      <th>108</th>\n",
       "      <td>house_age_remodel</td>\n",
       "      <td>-3704.545572</td>\n",
       "    </tr>\n",
       "  </tbody>\n",
       "</table>\n",
       "</div>"
      ],
      "text/plain": [
       "             parameter  coefficient\n",
       "23    bldg_type_TwnhsE -8128.094567\n",
       "22     bldg_type_Twnhs -5421.709342\n",
       "107    house_age_built -4320.928476\n",
       "55   garage_finish_RFn -3799.617902\n",
       "108  house_age_remodel -3704.545572"
      ]
     },
     "execution_count": 258,
     "metadata": {},
     "output_type": "execute_result"
    }
   ],
   "source": [
    "coef.head()"
   ]
  },
  {
   "cell_type": "code",
   "execution_count": 259,
   "id": "a79febcb-889e-43bb-8fe2-0b0d042272d5",
   "metadata": {},
   "outputs": [
    {
     "data": {
      "text/html": [
       "<div>\n",
       "<style scoped>\n",
       "    .dataframe tbody tr th:only-of-type {\n",
       "        vertical-align: middle;\n",
       "    }\n",
       "\n",
       "    .dataframe tbody tr th {\n",
       "        vertical-align: top;\n",
       "    }\n",
       "\n",
       "    .dataframe thead th {\n",
       "        text-align: right;\n",
       "    }\n",
       "</style>\n",
       "<table border=\"1\" class=\"dataframe\">\n",
       "  <thead>\n",
       "    <tr style=\"text-align: right;\">\n",
       "      <th></th>\n",
       "      <th>parameter</th>\n",
       "      <th>coefficient</th>\n",
       "    </tr>\n",
       "  </thead>\n",
       "  <tbody>\n",
       "    <tr>\n",
       "      <th>33</th>\n",
       "      <td>roof_matl_WdShngl</td>\n",
       "      <td>27326.923440</td>\n",
       "    </tr>\n",
       "    <tr>\n",
       "      <th>31</th>\n",
       "      <td>roof_matl_Tar&amp;Grv</td>\n",
       "      <td>45824.781363</td>\n",
       "    </tr>\n",
       "    <tr>\n",
       "      <th>29</th>\n",
       "      <td>roof_matl_CompShg</td>\n",
       "      <td>62223.536364</td>\n",
       "    </tr>\n",
       "    <tr>\n",
       "      <th>64</th>\n",
       "      <td>misc_feature_Shed</td>\n",
       "      <td>78642.628915</td>\n",
       "    </tr>\n",
       "    <tr>\n",
       "      <th>62</th>\n",
       "      <td>misc_feature_NA</td>\n",
       "      <td>84419.069285</td>\n",
       "    </tr>\n",
       "  </tbody>\n",
       "</table>\n",
       "</div>"
      ],
      "text/plain": [
       "            parameter   coefficient\n",
       "33  roof_matl_WdShngl  27326.923440\n",
       "31  roof_matl_Tar&Grv  45824.781363\n",
       "29  roof_matl_CompShg  62223.536364\n",
       "64  misc_feature_Shed  78642.628915\n",
       "62    misc_feature_NA  84419.069285"
      ]
     },
     "execution_count": 259,
     "metadata": {},
     "output_type": "execute_result"
    }
   ],
   "source": [
    "coef.tail()"
   ]
  },
  {
   "cell_type": "code",
   "execution_count": 260,
   "id": "5e951aa0-cb3c-4f9b-983c-f09c32f698e7",
   "metadata": {},
   "outputs": [
    {
     "data": {
      "image/png": "[encoded data removed]",
      "text/plain": [
       "<Figure size 1440x576 with 1 Axes>"
      ]
     },
     "metadata": {
      "needs_background": "light"
     },
     "output_type": "display_data"
    }
   ],
   "source": [
    "plt.figure(figsize = (20,8))\n",
    "sns.lineplot(data = coef, x = 'parameter', y = 'coefficient', lw = 5)\n",
    "plt.axhline(coef['coefficient'].mean(), color='red')\n",
    "plt.xticks(rotation = 90);\n",
    "plt.title('The Coefficient of the Linear Model')\n",
    "plt.xlabel('Parameter')\n",
    "plt.ylabel('Coefficient');\n",
    "plt.savefig('./images/lr_coefficient.jpg');"
   ]
  },
  {
   "cell_type": "code",
   "execution_count": 261,
   "id": "4d689b82-a9c0-4d35-88a5-71570950cdde",
   "metadata": {},
   "outputs": [],
   "source": [
    "train_pred_df = pd.DataFrame(train_pred)\n",
    "train_pred_df.columns = ['predicted_price']\n",
    "\n",
    "val_pred_df = pd.DataFrame(val_pred)\n",
    "val_pred_df.columns = ['predicted_price']\n",
    "\n",
    "test_pred_df = pd.DataFrame(test_pred)\n",
    "test_pred_df.columns = ['predicted_price']"
   ]
  },
  {
   "cell_type": "code",
   "execution_count": 262,
   "id": "cc1b8e34-3ddf-47b3-b0a4-d574a5a09d6d",
   "metadata": {
    "tags": []
   },
   "outputs": [],
   "source": [
    "# Add id column\n",
    "lr_train_pred = pd.concat([train_id, train_pred_df], axis = 1)\n",
    "lr_val_pred = pd.concat([val_id, val_pred_df], axis = 1)\n",
    "lr_test_pred = pd.concat([test_id, test_pred_df], axis = 1)"
   ]
  },
  {
   "cell_type": "code",
   "execution_count": 263,
   "id": "0831b0b5-0886-4630-a5a7-3970164b1b7b",
   "metadata": {},
   "outputs": [],
   "source": [
    "lr_test_pred.columns = ['Id', 'SalePrice']\n",
    "lr_test_pred.to_csv('./datasets/submission_lr.csv', index = False)"
   ]
  },
  {
   "cell_type": "markdown",
   "id": "429939bc-a6c0-47f6-b898-a4ae614b2756",
   "metadata": {
    "tags": []
   },
   "source": [
    "## 4. Ridge and Lasso"
   ]
  },
  {
   "cell_type": "markdown",
   "id": "92b12d93-2964-4489-bc82-1dafe5790214",
   "metadata": {},
   "source": [
    "### 4.1. Ridge"
   ]
  },
  {
   "cell_type": "code",
   "execution_count": 264,
   "id": "83bb48e3-2cc7-4c17-b222-9a1ca36d74a1",
   "metadata": {
    "tags": []
   },
   "outputs": [],
   "source": [
    "ridge = RidgeCV(alphas = np.logspace(0, 5, 200))"
   ]
  },
  {
   "cell_type": "code",
   "execution_count": 265,
   "id": "37dd5d3b-11bc-47eb-abcc-a36f27d868c6",
   "metadata": {},
   "outputs": [
    {
     "data": {
      "text/plain": [
       "RidgeCV(alphas=array([1.00000000e+00, 1.05956018e+00, 1.12266777e+00, 1.18953407e+00,\n",
       "       1.26038293e+00, 1.33545156e+00, 1.41499130e+00, 1.49926843e+00,\n",
       "       1.58856513e+00, 1.68318035e+00, 1.78343088e+00, 1.88965234e+00,\n",
       "       2.00220037e+00, 2.12145178e+00, 2.24780583e+00, 2.38168555e+00,\n",
       "       2.52353917e+00, 2.67384162e+00, 2.83309610e+00, 3.00183581e+00,\n",
       "       3.18062569e+00, 3.37006433e+0...\n",
       "       2.64308149e+04, 2.80050389e+04, 2.96730241e+04, 3.14403547e+04,\n",
       "       3.33129479e+04, 3.52970730e+04, 3.73993730e+04, 3.96268864e+04,\n",
       "       4.19870708e+04, 4.44878283e+04, 4.71375313e+04, 4.99450512e+04,\n",
       "       5.29197874e+04, 5.60716994e+04, 5.94113398e+04, 6.29498899e+04,\n",
       "       6.66991966e+04, 7.06718127e+04, 7.48810386e+04, 7.93409667e+04,\n",
       "       8.40665289e+04, 8.90735464e+04, 9.43787828e+04, 1.00000000e+05]))"
      ]
     },
     "execution_count": 265,
     "metadata": {},
     "output_type": "execute_result"
    }
   ],
   "source": [
    "ridge.fit(X_train, y_train)"
   ]
  },
  {
   "cell_type": "code",
   "execution_count": 266,
   "id": "e576dbf1-1af4-4482-9c20-5a22d0682245",
   "metadata": {},
   "outputs": [
    {
     "data": {
      "text/plain": [
       "258.2618760682677"
      ]
     },
     "execution_count": 266,
     "metadata": {},
     "output_type": "execute_result"
    }
   ],
   "source": [
    "ridge.alpha_"
   ]
  },
  {
   "cell_type": "code",
   "execution_count": 267,
   "id": "8b5e14bf-0d9a-4b8a-b30b-c6c7f7f80250",
   "metadata": {},
   "outputs": [
    {
     "data": {
      "text/plain": [
       "(0.8775559465681877, 0.8761843211741213)"
      ]
     },
     "execution_count": 267,
     "metadata": {},
     "output_type": "execute_result"
    }
   ],
   "source": [
    "ridge.score(X_train, y_train), ridge.score(X_val, y_val)"
   ]
  },
  {
   "cell_type": "code",
   "execution_count": 268,
   "id": "16e3b0be-8f9b-4ef7-aa0d-5bb3f7063230",
   "metadata": {},
   "outputs": [
    {
     "data": {
      "text/plain": [
       "(27912.806245618794, 27122.919719812977)"
      ]
     },
     "execution_count": 268,
     "metadata": {},
     "output_type": "execute_result"
    }
   ],
   "source": [
    "metrics.mean_squared_error(y_train, ridge.predict(X_train)) ** 0.5, metrics.mean_squared_error(y_val, ridge.predict(X_val)) ** 0.5"
   ]
  },
  {
   "cell_type": "code",
   "execution_count": 269,
   "id": "fe0ee9a8-5a54-4229-a542-5890baf4e80c",
   "metadata": {
    "tags": []
   },
   "outputs": [],
   "source": [
    "rg_train_pred = ridge.predict(X_train)\n",
    "rg_train_pred = pd.DataFrame(rg_train_pred, columns = ['SalePrice'])\n",
    "\n",
    "rg_val_pred = ridge.predict(X_val)\n",
    "rg_val_pred = pd.DataFrame(rg_val_pred, columns = ['SalePrice'])\n",
    "\n",
    "rg_test_pred = ridge.predict(test)\n",
    "rg_test_pred = pd.DataFrame(rg_test_pred, columns = ['SalePrice'])"
   ]
  },
  {
   "cell_type": "code",
   "execution_count": 270,
   "id": "a087236e-1be2-4c66-b4a3-8a1e075c6d0f",
   "metadata": {},
   "outputs": [],
   "source": [
    "rg_res = y_val - ridge.predict(X_val)"
   ]
  },
  {
   "cell_type": "code",
   "execution_count": 271,
   "id": "e4b963ab-2f11-48d7-b262-d32b42aad6a4",
   "metadata": {
    "tags": []
   },
   "outputs": [
    {
     "data": {
      "text/html": [
       "<div>\n",
       "<style scoped>\n",
       "    .dataframe tbody tr th:only-of-type {\n",
       "        vertical-align: middle;\n",
       "    }\n",
       "\n",
       "    .dataframe tbody tr th {\n",
       "        vertical-align: top;\n",
       "    }\n",
       "\n",
       "    .dataframe thead th {\n",
       "        text-align: right;\n",
       "    }\n",
       "</style>\n",
       "<table border=\"1\" class=\"dataframe\">\n",
       "  <thead>\n",
       "    <tr style=\"text-align: right;\">\n",
       "      <th></th>\n",
       "      <th>Id</th>\n",
       "      <th>SalePrice</th>\n",
       "    </tr>\n",
       "  </thead>\n",
       "  <tbody>\n",
       "    <tr>\n",
       "      <th>0</th>\n",
       "      <td>2658</td>\n",
       "      <td>133191.407451</td>\n",
       "    </tr>\n",
       "    <tr>\n",
       "      <th>1</th>\n",
       "      <td>2718</td>\n",
       "      <td>177438.518592</td>\n",
       "    </tr>\n",
       "    <tr>\n",
       "      <th>2</th>\n",
       "      <td>2414</td>\n",
       "      <td>200095.529781</td>\n",
       "    </tr>\n",
       "    <tr>\n",
       "      <th>3</th>\n",
       "      <td>1989</td>\n",
       "      <td>125174.264782</td>\n",
       "    </tr>\n",
       "    <tr>\n",
       "      <th>4</th>\n",
       "      <td>625</td>\n",
       "      <td>175755.476140</td>\n",
       "    </tr>\n",
       "    <tr>\n",
       "      <th>...</th>\n",
       "      <td>...</td>\n",
       "      <td>...</td>\n",
       "    </tr>\n",
       "    <tr>\n",
       "      <th>873</th>\n",
       "      <td>1662</td>\n",
       "      <td>174368.865095</td>\n",
       "    </tr>\n",
       "    <tr>\n",
       "      <th>874</th>\n",
       "      <td>1234</td>\n",
       "      <td>214507.517457</td>\n",
       "    </tr>\n",
       "    <tr>\n",
       "      <th>875</th>\n",
       "      <td>1373</td>\n",
       "      <td>139200.430374</td>\n",
       "    </tr>\n",
       "    <tr>\n",
       "      <th>876</th>\n",
       "      <td>1672</td>\n",
       "      <td>107554.390828</td>\n",
       "    </tr>\n",
       "    <tr>\n",
       "      <th>877</th>\n",
       "      <td>1939</td>\n",
       "      <td>128177.549120</td>\n",
       "    </tr>\n",
       "  </tbody>\n",
       "</table>\n",
       "<p>878 rows × 2 columns</p>\n",
       "</div>"
      ],
      "text/plain": [
       "       Id      SalePrice\n",
       "0    2658  133191.407451\n",
       "1    2718  177438.518592\n",
       "2    2414  200095.529781\n",
       "3    1989  125174.264782\n",
       "4     625  175755.476140\n",
       "..    ...            ...\n",
       "873  1662  174368.865095\n",
       "874  1234  214507.517457\n",
       "875  1373  139200.430374\n",
       "876  1672  107554.390828\n",
       "877  1939  128177.549120\n",
       "\n",
       "[878 rows x 2 columns]"
      ]
     },
     "execution_count": 271,
     "metadata": {},
     "output_type": "execute_result"
    }
   ],
   "source": [
    "rg_test_pred.insert(loc = 0, column = 'Id', value = test_id)\n",
    "rg_test_pred"
   ]
  },
  {
   "cell_type": "code",
   "execution_count": 272,
   "id": "001f641e-2d77-46c3-838e-8ccd91dc86ab",
   "metadata": {},
   "outputs": [],
   "source": [
    "rg_test_pred.to_csv('./datasets/submission_ridge.csv', index = False)"
   ]
  },
  {
   "cell_type": "markdown",
   "id": "b2807354-73ef-4b03-af29-2f8a0431e904",
   "metadata": {},
   "source": [
    "### 4.2. Lasso"
   ]
  },
  {
   "cell_type": "code",
   "execution_count": 273,
   "id": "002950bf-ef96-4316-8a65-953ccb30ae64",
   "metadata": {},
   "outputs": [],
   "source": [
    "lasso = LassoCV(alphas = np.arange(0.001, 10, 1), max_iter = 10000)"
   ]
  },
  {
   "cell_type": "code",
   "execution_count": 274,
   "id": "e8d3c258-f034-4519-81e1-7ef736ec61ba",
   "metadata": {},
   "outputs": [
    {
     "data": {
      "text/plain": [
       "LassoCV(alphas=array([1.000e-03, 1.001e+00, 2.001e+00, 3.001e+00, 4.001e+00, 5.001e+00,\n",
       "       6.001e+00, 7.001e+00, 8.001e+00, 9.001e+00]),\n",
       "        max_iter=10000)"
      ]
     },
     "execution_count": 274,
     "metadata": {},
     "output_type": "execute_result"
    }
   ],
   "source": [
    "lasso.fit(X_train, y_train)"
   ]
  },
  {
   "cell_type": "code",
   "execution_count": 275,
   "id": "557f2afb-1e91-4fef-8507-27286bac1aa4",
   "metadata": {},
   "outputs": [
    {
     "data": {
      "text/plain": [
       "9.000999999999998"
      ]
     },
     "execution_count": 275,
     "metadata": {},
     "output_type": "execute_result"
    }
   ],
   "source": [
    "lasso.alpha_"
   ]
  },
  {
   "cell_type": "code",
   "execution_count": 276,
   "id": "7509af1e-7906-4d3a-a78f-1e4e22edaccd",
   "metadata": {},
   "outputs": [
    {
     "data": {
      "text/plain": [
       "(0.90836178244172, 0.8882049886438458)"
      ]
     },
     "execution_count": 276,
     "metadata": {},
     "output_type": "execute_result"
    }
   ],
   "source": [
    "lasso.score(X_train, y_train), lasso.score(X_val, y_val)"
   ]
  },
  {
   "cell_type": "code",
   "execution_count": 277,
   "id": "3ce34966-8cd5-4389-a7a4-626a0eea2887",
   "metadata": {},
   "outputs": [
    {
     "data": {
      "text/plain": [
       "(24147.544132794945, 25772.69470019477)"
      ]
     },
     "execution_count": 277,
     "metadata": {},
     "output_type": "execute_result"
    }
   ],
   "source": [
    "metrics.mean_squared_error(y_train, lasso.predict(X_train)) ** 0.5, metrics.mean_squared_error(y_val, lasso.predict(X_val)) ** 0.5"
   ]
  },
  {
   "cell_type": "code",
   "execution_count": 278,
   "id": "21b6ca29-cd9b-4612-adda-54a5fd8ae82a",
   "metadata": {
    "tags": []
   },
   "outputs": [
    {
     "name": "stderr",
     "output_type": "stream",
     "text": [
      "/opt/anaconda3/lib/python3.9/site-packages/sklearn/linear_model/_coordinate_descent.py:633: ConvergenceWarning: Objective did not converge. You might want to increase the number of iterations. Duality gap: 9888182675.118042, tolerance: 688738455.3754988\n",
      "  model = cd_fast.enet_coordinate_descent_gram(\n",
      "/opt/anaconda3/lib/python3.9/site-packages/sklearn/linear_model/_coordinate_descent.py:633: ConvergenceWarning: Objective did not converge. You might want to increase the number of iterations. Duality gap: 26985185805.67932, tolerance: 695549778.5076067\n",
      "  model = cd_fast.enet_coordinate_descent_gram(\n"
     ]
    },
    {
     "data": {
      "text/plain": [
       "array([0.89115556, 0.71115088, 0.78090333, 0.81877005, 0.69996591])"
      ]
     },
     "execution_count": 278,
     "metadata": {},
     "output_type": "execute_result"
    }
   ],
   "source": [
    "cross_val_score(lasso, X_train, y_train)"
   ]
  },
  {
   "cell_type": "code",
   "execution_count": 279,
   "id": "913eab7c-3d3e-4112-a992-7aeb309b451a",
   "metadata": {},
   "outputs": [],
   "source": [
    "ls_train_pred = lasso.predict(X_train)\n",
    "ls_train_pred = pd.DataFrame(ls_train_pred, columns = ['SalePrice'])\n",
    "\n",
    "ls_val_pred = lasso.predict(X_val)\n",
    "ls_val_pred = pd.DataFrame(ls_val_pred, columns = ['SalePrice'])\n",
    "\n",
    "ls_test_pred = lasso.predict(test)\n",
    "ls_test_pred = pd.DataFrame(ls_test_pred, columns = ['SalePrice'])"
   ]
  },
  {
   "cell_type": "code",
   "execution_count": 280,
   "id": "dfff6916-b6b2-48f9-920c-ae977dff2602",
   "metadata": {},
   "outputs": [
    {
     "data": {
      "text/html": [
       "<div>\n",
       "<style scoped>\n",
       "    .dataframe tbody tr th:only-of-type {\n",
       "        vertical-align: middle;\n",
       "    }\n",
       "\n",
       "    .dataframe tbody tr th {\n",
       "        vertical-align: top;\n",
       "    }\n",
       "\n",
       "    .dataframe thead th {\n",
       "        text-align: right;\n",
       "    }\n",
       "</style>\n",
       "<table border=\"1\" class=\"dataframe\">\n",
       "  <thead>\n",
       "    <tr style=\"text-align: right;\">\n",
       "      <th></th>\n",
       "      <th>Id</th>\n",
       "      <th>SalePrice</th>\n",
       "    </tr>\n",
       "  </thead>\n",
       "  <tbody>\n",
       "    <tr>\n",
       "      <th>0</th>\n",
       "      <td>2658</td>\n",
       "      <td>143461.213320</td>\n",
       "    </tr>\n",
       "    <tr>\n",
       "      <th>1</th>\n",
       "      <td>2718</td>\n",
       "      <td>186010.372211</td>\n",
       "    </tr>\n",
       "    <tr>\n",
       "      <th>2</th>\n",
       "      <td>2414</td>\n",
       "      <td>193105.814513</td>\n",
       "    </tr>\n",
       "    <tr>\n",
       "      <th>3</th>\n",
       "      <td>1989</td>\n",
       "      <td>120780.838840</td>\n",
       "    </tr>\n",
       "    <tr>\n",
       "      <th>4</th>\n",
       "      <td>625</td>\n",
       "      <td>175837.210304</td>\n",
       "    </tr>\n",
       "    <tr>\n",
       "      <th>...</th>\n",
       "      <td>...</td>\n",
       "      <td>...</td>\n",
       "    </tr>\n",
       "    <tr>\n",
       "      <th>873</th>\n",
       "      <td>1662</td>\n",
       "      <td>177602.198301</td>\n",
       "    </tr>\n",
       "    <tr>\n",
       "      <th>874</th>\n",
       "      <td>1234</td>\n",
       "      <td>216473.843325</td>\n",
       "    </tr>\n",
       "    <tr>\n",
       "      <th>875</th>\n",
       "      <td>1373</td>\n",
       "      <td>144069.875501</td>\n",
       "    </tr>\n",
       "    <tr>\n",
       "      <th>876</th>\n",
       "      <td>1672</td>\n",
       "      <td>104669.320453</td>\n",
       "    </tr>\n",
       "    <tr>\n",
       "      <th>877</th>\n",
       "      <td>1939</td>\n",
       "      <td>127320.403077</td>\n",
       "    </tr>\n",
       "  </tbody>\n",
       "</table>\n",
       "<p>878 rows × 2 columns</p>\n",
       "</div>"
      ],
      "text/plain": [
       "       Id      SalePrice\n",
       "0    2658  143461.213320\n",
       "1    2718  186010.372211\n",
       "2    2414  193105.814513\n",
       "3    1989  120780.838840\n",
       "4     625  175837.210304\n",
       "..    ...            ...\n",
       "873  1662  177602.198301\n",
       "874  1234  216473.843325\n",
       "875  1373  144069.875501\n",
       "876  1672  104669.320453\n",
       "877  1939  127320.403077\n",
       "\n",
       "[878 rows x 2 columns]"
      ]
     },
     "execution_count": 280,
     "metadata": {},
     "output_type": "execute_result"
    }
   ],
   "source": [
    "ls_test_pred.insert(loc = 0, column = 'Id', value = test_id)\n",
    "ls_test_pred"
   ]
  },
  {
   "cell_type": "code",
   "execution_count": 281,
   "id": "5b1af8ae-33fb-4fec-970a-a11412e511af",
   "metadata": {
    "tags": []
   },
   "outputs": [],
   "source": [
    "ls_test_pred.to_csv('./datasets/submission_lasso.csv', index = False)"
   ]
  },
  {
   "cell_type": "code",
   "execution_count": 282,
   "id": "e90e7b09-795d-4061-856b-5378529ee224",
   "metadata": {},
   "outputs": [],
   "source": [
    "ls_res = y_val - lasso.predict(X_val)"
   ]
  },
  {
   "cell_type": "markdown",
   "id": "b8013bd2-1a87-4951-99c3-a11452658de2",
   "metadata": {},
   "source": [
    "Ridge and Lasso did not enhance the accuracy of the original model. "
   ]
  },
  {
   "cell_type": "code",
   "execution_count": 288,
   "id": "3e0a694d-c6a3-4f3f-ad91-dc806686bb0c",
   "metadata": {},
   "outputs": [
    {
     "data": {
      "image/png": "[encoded data removed]",
      "text/plain": [
       "<Figure size 1440x576 with 1 Axes>"
      ]
     },
     "metadata": {
      "needs_background": "light"
     },
     "output_type": "display_data"
    }
   ],
   "source": [
    "plt.figure(figsize = (20, 8))\n",
    "\n",
    "plt.scatter(val_pred, val_res, c = 'orange')\n",
    "plt.scatter(ridge.predict(X_val), rg_res, c = 'blue')\n",
    "plt.scatter(lasso.predict(X_val), ls_res, c = 'green')\n",
    "plt.axhline(0, color='red')\n",
    "plt.title('The Residual Distribution of Validation Dataset')\n",
    "plt.xlabel('Prediction of Validation Dataset')\n",
    "plt.ylabel('Residuals')\n",
    "plt.xlim(0, 500000)\n",
    "plt.ylim(-200000, 200000)\n",
    "plt.savefig('./images/vaild_res.jpg');"
   ]
  }
 ],
 "metadata": {
  "kernelspec": {
   "display_name": "Python 3 (ipykernel)",
   "language": "python",
   "name": "python3"
  },
  "language_info": {
   "codemirror_mode": {
    "name": "ipython",
    "version": 3
   },
   "file_extension": ".py",
   "mimetype": "text/x-python",
   "name": "python",
   "nbconvert_exporter": "python",
   "pygments_lexer": "ipython3",
   "version": "3.9.7"
  }
 },
 "nbformat": 4,
 "nbformat_minor": 5
}
